{
 "cells": [
  {
   "cell_type": "markdown",
   "id": "d9fff4e5",
   "metadata": {},
   "source": [
    "# 1. Sprint 11 - Selección de Región Petrolera en OilyGiant\n",
    "\n",
    "En este proyecto se busca determinar cuál de tres regiones disponibles ofrece las mejores condiciones para abrir **200 nuevos pozos de petróleo**.\n",
    "\n",
    "El análisis se basará en la construcción de un modelo de **regresión lineal** que permita predecir el volumen de reservas de cada pozo, seleccionar los más rentables y calcular la ganancia esperada.\n",
    "\n",
    "Además, se aplicará la técnica de **bootstrapping** para evaluar el beneficio promedio, el intervalo de confianza y el riesgo de pérdidas, con el fin de tomar una decisión fundamentada y alineada con los objetivos de negocio."
   ]
  },
  {
   "cell_type": "markdown",
   "id": "4dc22724",
   "metadata": {},
   "source": [
    "## 1.1 Objetivo del Proyecto y Contexto\n",
    "\n",
    "La compañía **OilyGiant** necesita expandir su producción y busca identificar la región más prometedora para la perforación de nuevos pozos.\n",
    "\n",
    "El desafío consiste en seleccionar la región que ofrezca el **mayor beneficio esperado** al perforar 200 pozos, garantizando que el **riesgo de pérdidas no supere el 2.5%**.\n",
    "\n",
    "Para resolver este problema se dispone de datos de exploración geológica de tres regiones, con parámetros técnicos de cada pozo y su volumen estimado de reservas.\n",
    "\n",
    "Estos datos serán la base para construir y validar modelos predictivos, calcular beneficios potenciales y evaluar riesgos, con el objetivo de recomendar una única región para la inversión."
   ]
  },
  {
   "cell_type": "markdown",
   "id": "f500ce2c",
   "metadata": {},
   "source": [
    "## 1.2 Configuración Inicial\n",
    "\n",
    "En esta subsección se importan las librerías necesarias para el análisis, modelado y visualización de datos.  \n",
    "Además, se valida la versión de cada librería utilizada para asegurar la **reproducibilidad** del proyecto en cualquier entorno.  \n",
    "También se establece un estilo uniforme para las gráficas que se generarán a lo largo del análisis."
   ]
  },
  {
   "cell_type": "code",
   "execution_count": 1,
   "id": "f609c8eb",
   "metadata": {},
   "outputs": [
    {
     "name": "stdout",
     "output_type": "stream",
     "text": [
      "✅ Librerías importadas y configuración inicial completada\n",
      "\n",
      "Pandas versión: 2.3.2\n",
      "NumPy versión: 2.2.5\n",
      "Matplotlib versión: 3.10.5\n",
      "Seaborn versión: 0.13.2\n",
      "Scikit-Learn versión: 1.7.1\n"
     ]
    }
   ],
   "source": [
    "\"\"\"\n",
    "1.2 Configuración inicial\n",
    "Propósito: Importar librerías necesarias y validar sus versiones.\n",
    "\"\"\"\n",
    "\n",
    "# 1) Manejo de datos\n",
    "import pandas as pd\n",
    "import numpy as np\n",
    "\n",
    "# 2) Visualización\n",
    "import matplotlib.pyplot as plt\n",
    "import seaborn as sns\n",
    "\n",
    "# 3) Modelado y validación\n",
    "from sklearn.model_selection import train_test_split\n",
    "from sklearn.linear_model import LinearRegression\n",
    "from sklearn.metrics import mean_squared_error\n",
    "\n",
    "# 4) Configuración de visualización\n",
    "sns.set(style=\"whitegrid\")  # estilo limpio con cuadrícula\n",
    "plt.rcParams[\"figure.figsize\"] = (10, 6)  # tamaño estándar de las figuras\n",
    "\n",
    "# 5) Validación de versiones\n",
    "print(\"✅ Librerías importadas y configuración inicial completada\\n\")\n",
    "print(f\"Pandas versión: {pd.__version__}\")\n",
    "print(f\"NumPy versión: {np.__version__}\")\n",
    "print(f\"Matplotlib versión: {plt.matplotlib.__version__}\")\n",
    "print(f\"Seaborn versión: {sns.__version__}\")\n",
    "\n",
    "import sklearn\n",
    "print(f\"Scikit-Learn versión: {sklearn.__version__}\")"
   ]
  },
  {
   "cell_type": "markdown",
   "id": "0c837867",
   "metadata": {},
   "source": [
    "# 2. Carga y Exploración de Datasets\n",
    "\n",
    "En esta sección se trabajará con los datos proporcionados para el proyecto.  \n",
    "Se cargarán los tres archivos correspondientes a las regiones de exploración petrolera (`geo_data_0.csv`, `geo_data_1.csv`, `geo_data_2.csv`) y se realizará una revisión inicial de su estructura.  \n",
    "El objetivo es garantizar que los datos estén completos, en el formato adecuado y listos para el proceso de modelado.  \n",
    "Además, se validará la calidad de la información revisando dimensiones, tipos de datos, valores nulos y posibles duplicados, y se explorará de manera preliminar la distribución de la variable objetivo **`product`** (volumen de reservas en miles de barriles)."
   ]
  },
  {
   "cell_type": "markdown",
   "id": "c243418c",
   "metadata": {},
   "source": [
    "## 2.1 Cargar Datasets\n",
    "\n",
    "En esta subsección se importan los tres archivos que contienen los datos de exploración geológica de las regiones evaluadas:  \n",
    "- `geo_data_0.csv`  \n",
    "- `geo_data_1.csv`  \n",
    "- `geo_data_2.csv`  \n",
    "\n",
    "Cada archivo incluye las características de los pozos (`f0`, `f1`, `f2`) y la variable objetivo `product`, que representa el volumen estimado de reservas de petróleo en miles de barriles.  \n",
    "El propósito es verificar que los archivos se carguen correctamente y conocer la cantidad de registros disponibles en cada uno.\n"
   ]
  },
  {
   "cell_type": "code",
   "execution_count": 2,
   "id": "19135d04",
   "metadata": {},
   "outputs": [
    {
     "name": "stdout",
     "output_type": "stream",
     "text": [
      "Dimensiones Región 0: (100000, 5)\n",
      "Dimensiones Región 1: (100000, 5)\n",
      "Dimensiones Región 2: (100000, 5)\n",
      "\n",
      "Primeras filas Región 0:\n"
     ]
    },
    {
     "data": {
      "text/html": [
       "<div>\n",
       "<style scoped>\n",
       "    .dataframe tbody tr th:only-of-type {\n",
       "        vertical-align: middle;\n",
       "    }\n",
       "\n",
       "    .dataframe tbody tr th {\n",
       "        vertical-align: top;\n",
       "    }\n",
       "\n",
       "    .dataframe thead th {\n",
       "        text-align: right;\n",
       "    }\n",
       "</style>\n",
       "<table border=\"1\" class=\"dataframe\">\n",
       "  <thead>\n",
       "    <tr style=\"text-align: right;\">\n",
       "      <th></th>\n",
       "      <th>id</th>\n",
       "      <th>f0</th>\n",
       "      <th>f1</th>\n",
       "      <th>f2</th>\n",
       "      <th>product</th>\n",
       "    </tr>\n",
       "  </thead>\n",
       "  <tbody>\n",
       "    <tr>\n",
       "      <th>0</th>\n",
       "      <td>txEyH</td>\n",
       "      <td>0.705745</td>\n",
       "      <td>-0.497823</td>\n",
       "      <td>1.221170</td>\n",
       "      <td>105.280062</td>\n",
       "    </tr>\n",
       "    <tr>\n",
       "      <th>1</th>\n",
       "      <td>2acmU</td>\n",
       "      <td>1.334711</td>\n",
       "      <td>-0.340164</td>\n",
       "      <td>4.365080</td>\n",
       "      <td>73.037750</td>\n",
       "    </tr>\n",
       "    <tr>\n",
       "      <th>2</th>\n",
       "      <td>409Wp</td>\n",
       "      <td>1.022732</td>\n",
       "      <td>0.151990</td>\n",
       "      <td>1.419926</td>\n",
       "      <td>85.265647</td>\n",
       "    </tr>\n",
       "    <tr>\n",
       "      <th>3</th>\n",
       "      <td>iJLyR</td>\n",
       "      <td>-0.032172</td>\n",
       "      <td>0.139033</td>\n",
       "      <td>2.978566</td>\n",
       "      <td>168.620776</td>\n",
       "    </tr>\n",
       "    <tr>\n",
       "      <th>4</th>\n",
       "      <td>Xdl7t</td>\n",
       "      <td>1.988431</td>\n",
       "      <td>0.155413</td>\n",
       "      <td>4.751769</td>\n",
       "      <td>154.036647</td>\n",
       "    </tr>\n",
       "  </tbody>\n",
       "</table>\n",
       "</div>"
      ],
      "text/plain": [
       "      id        f0        f1        f2     product\n",
       "0  txEyH  0.705745 -0.497823  1.221170  105.280062\n",
       "1  2acmU  1.334711 -0.340164  4.365080   73.037750\n",
       "2  409Wp  1.022732  0.151990  1.419926   85.265647\n",
       "3  iJLyR -0.032172  0.139033  2.978566  168.620776\n",
       "4  Xdl7t  1.988431  0.155413  4.751769  154.036647"
      ]
     },
     "metadata": {},
     "output_type": "display_data"
    },
    {
     "name": "stdout",
     "output_type": "stream",
     "text": [
      "\n",
      "Primeras filas Región 1:\n"
     ]
    },
    {
     "data": {
      "text/html": [
       "<div>\n",
       "<style scoped>\n",
       "    .dataframe tbody tr th:only-of-type {\n",
       "        vertical-align: middle;\n",
       "    }\n",
       "\n",
       "    .dataframe tbody tr th {\n",
       "        vertical-align: top;\n",
       "    }\n",
       "\n",
       "    .dataframe thead th {\n",
       "        text-align: right;\n",
       "    }\n",
       "</style>\n",
       "<table border=\"1\" class=\"dataframe\">\n",
       "  <thead>\n",
       "    <tr style=\"text-align: right;\">\n",
       "      <th></th>\n",
       "      <th>id</th>\n",
       "      <th>f0</th>\n",
       "      <th>f1</th>\n",
       "      <th>f2</th>\n",
       "      <th>product</th>\n",
       "    </tr>\n",
       "  </thead>\n",
       "  <tbody>\n",
       "    <tr>\n",
       "      <th>0</th>\n",
       "      <td>kBEdx</td>\n",
       "      <td>-15.001348</td>\n",
       "      <td>-8.276000</td>\n",
       "      <td>-0.005876</td>\n",
       "      <td>3.179103</td>\n",
       "    </tr>\n",
       "    <tr>\n",
       "      <th>1</th>\n",
       "      <td>62mP7</td>\n",
       "      <td>14.272088</td>\n",
       "      <td>-3.475083</td>\n",
       "      <td>0.999183</td>\n",
       "      <td>26.953261</td>\n",
       "    </tr>\n",
       "    <tr>\n",
       "      <th>2</th>\n",
       "      <td>vyE1P</td>\n",
       "      <td>6.263187</td>\n",
       "      <td>-5.948386</td>\n",
       "      <td>5.001160</td>\n",
       "      <td>134.766305</td>\n",
       "    </tr>\n",
       "    <tr>\n",
       "      <th>3</th>\n",
       "      <td>KcrkZ</td>\n",
       "      <td>-13.081196</td>\n",
       "      <td>-11.506057</td>\n",
       "      <td>4.999415</td>\n",
       "      <td>137.945408</td>\n",
       "    </tr>\n",
       "    <tr>\n",
       "      <th>4</th>\n",
       "      <td>AHL4O</td>\n",
       "      <td>12.702195</td>\n",
       "      <td>-8.147433</td>\n",
       "      <td>5.004363</td>\n",
       "      <td>134.766305</td>\n",
       "    </tr>\n",
       "  </tbody>\n",
       "</table>\n",
       "</div>"
      ],
      "text/plain": [
       "      id         f0         f1        f2     product\n",
       "0  kBEdx -15.001348  -8.276000 -0.005876    3.179103\n",
       "1  62mP7  14.272088  -3.475083  0.999183   26.953261\n",
       "2  vyE1P   6.263187  -5.948386  5.001160  134.766305\n",
       "3  KcrkZ -13.081196 -11.506057  4.999415  137.945408\n",
       "4  AHL4O  12.702195  -8.147433  5.004363  134.766305"
      ]
     },
     "metadata": {},
     "output_type": "display_data"
    },
    {
     "name": "stdout",
     "output_type": "stream",
     "text": [
      "\n",
      "Primeras filas Región 2:\n"
     ]
    },
    {
     "data": {
      "text/html": [
       "<div>\n",
       "<style scoped>\n",
       "    .dataframe tbody tr th:only-of-type {\n",
       "        vertical-align: middle;\n",
       "    }\n",
       "\n",
       "    .dataframe tbody tr th {\n",
       "        vertical-align: top;\n",
       "    }\n",
       "\n",
       "    .dataframe thead th {\n",
       "        text-align: right;\n",
       "    }\n",
       "</style>\n",
       "<table border=\"1\" class=\"dataframe\">\n",
       "  <thead>\n",
       "    <tr style=\"text-align: right;\">\n",
       "      <th></th>\n",
       "      <th>id</th>\n",
       "      <th>f0</th>\n",
       "      <th>f1</th>\n",
       "      <th>f2</th>\n",
       "      <th>product</th>\n",
       "    </tr>\n",
       "  </thead>\n",
       "  <tbody>\n",
       "    <tr>\n",
       "      <th>0</th>\n",
       "      <td>fwXo0</td>\n",
       "      <td>-1.146987</td>\n",
       "      <td>0.963328</td>\n",
       "      <td>-0.828965</td>\n",
       "      <td>27.758673</td>\n",
       "    </tr>\n",
       "    <tr>\n",
       "      <th>1</th>\n",
       "      <td>WJtFt</td>\n",
       "      <td>0.262778</td>\n",
       "      <td>0.269839</td>\n",
       "      <td>-2.530187</td>\n",
       "      <td>56.069697</td>\n",
       "    </tr>\n",
       "    <tr>\n",
       "      <th>2</th>\n",
       "      <td>ovLUW</td>\n",
       "      <td>0.194587</td>\n",
       "      <td>0.289035</td>\n",
       "      <td>-5.586433</td>\n",
       "      <td>62.871910</td>\n",
       "    </tr>\n",
       "    <tr>\n",
       "      <th>3</th>\n",
       "      <td>q6cA6</td>\n",
       "      <td>2.236060</td>\n",
       "      <td>-0.553760</td>\n",
       "      <td>0.930038</td>\n",
       "      <td>114.572842</td>\n",
       "    </tr>\n",
       "    <tr>\n",
       "      <th>4</th>\n",
       "      <td>WPMUX</td>\n",
       "      <td>-0.515993</td>\n",
       "      <td>1.716266</td>\n",
       "      <td>5.899011</td>\n",
       "      <td>149.600746</td>\n",
       "    </tr>\n",
       "  </tbody>\n",
       "</table>\n",
       "</div>"
      ],
      "text/plain": [
       "      id        f0        f1        f2     product\n",
       "0  fwXo0 -1.146987  0.963328 -0.828965   27.758673\n",
       "1  WJtFt  0.262778  0.269839 -2.530187   56.069697\n",
       "2  ovLUW  0.194587  0.289035 -5.586433   62.871910\n",
       "3  q6cA6  2.236060 -0.553760  0.930038  114.572842\n",
       "4  WPMUX -0.515993  1.716266  5.899011  149.600746"
      ]
     },
     "metadata": {},
     "output_type": "display_data"
    }
   ],
   "source": [
    "\"\"\"\n",
    "2.1 Cargar datasets\n",
    "Propósito: Importar los tres datasets de exploración y mostrar sus dimensiones iniciales.\n",
    "\"\"\"\n",
    "\n",
    "# Rutas de los datasets\n",
    "DATA_PATH_0 = \"../datasets/geo_data_0.csv\"\n",
    "DATA_PATH_1 = \"../datasets/geo_data_1.csv\"\n",
    "DATA_PATH_2 = \"../datasets/geo_data_2.csv\"\n",
    "\n",
    "# Cargar datasets en DataFrames\n",
    "df_region_0 = pd.read_csv(DATA_PATH_0)\n",
    "df_region_1 = pd.read_csv(DATA_PATH_1)\n",
    "df_region_2 = pd.read_csv(DATA_PATH_2)\n",
    "\n",
    "# Mostrar dimensiones de cada dataset\n",
    "print(\"Dimensiones Región 0:\", df_region_0.shape)\n",
    "print(\"Dimensiones Región 1:\", df_region_1.shape)\n",
    "print(\"Dimensiones Región 2:\", df_region_2.shape)\n",
    "\n",
    "# Vista rápida de las primeras filas de cada dataset\n",
    "print(\"\\nPrimeras filas Región 0:\")\n",
    "display(df_region_0.head())\n",
    "\n",
    "print(\"\\nPrimeras filas Región 1:\")\n",
    "display(df_region_1.head())\n",
    "\n",
    "print(\"\\nPrimeras filas Región 2:\")\n",
    "display(df_region_2.head())\n"
   ]
  },
  {
   "cell_type": "markdown",
   "id": "9814bcdb",
   "metadata": {},
   "source": [
    "### ✅ Conclusión Sección 2.1 — Cargar Datasets\n",
    "\n",
    "Los tres archivos de datos se cargaron correctamente:\n",
    "\n",
    "- Cada dataset contiene **100,000 registros y 5 columnas** (`id`, `f0`, `f1`, `f2`, `product`).  \n",
    "- La columna `id` funciona como identificador único de pozo.  \n",
    "- Las variables `f0`, `f1`, `f2` corresponden a características numéricas de exploración.  \n",
    "- La columna `product` representa el volumen estimado de reservas en **miles de barriles**, y será nuestra **variable objetivo** para la predicción.  \n",
    "\n",
    "Con esta validación inicial, confirmamos que los datos están listos para proceder a la revisión de estructura y tipos en la siguiente subsección."
   ]
  },
  {
   "cell_type": "markdown",
   "id": "b4ee3987",
   "metadata": {},
   "source": [
    "## 2.2 Validación de estructura y tipos de datos\n",
    "\n",
    "En esta subsección se revisará la estructura de los datasets para confirmar que las columnas tengan los tipos de datos adecuados.  \n",
    "Esto es importante porque los modelos de regresión lineal requieren que las variables predictoras sean numéricas y no contengan errores de formato.  \n",
    "Se mostrarán también estadísticas descriptivas básicas de la variable objetivo `product` para verificar su rango y consistencia inicial.\n"
   ]
  },
  {
   "cell_type": "code",
   "execution_count": 3,
   "id": "2f4409ba",
   "metadata": {},
   "outputs": [
    {
     "name": "stdout",
     "output_type": "stream",
     "text": [
      "📌 Información Región 0\n",
      "<class 'pandas.core.frame.DataFrame'>\n",
      "RangeIndex: 100000 entries, 0 to 99999\n",
      "Data columns (total 5 columns):\n",
      " #   Column   Non-Null Count   Dtype  \n",
      "---  ------   --------------   -----  \n",
      " 0   id       100000 non-null  object \n",
      " 1   f0       100000 non-null  float64\n",
      " 2   f1       100000 non-null  float64\n",
      " 3   f2       100000 non-null  float64\n",
      " 4   product  100000 non-null  float64\n",
      "dtypes: float64(4), object(1)\n",
      "memory usage: 3.8+ MB\n",
      "None\n",
      "\n",
      "📌 Información Región 1\n",
      "<class 'pandas.core.frame.DataFrame'>\n",
      "RangeIndex: 100000 entries, 0 to 99999\n",
      "Data columns (total 5 columns):\n",
      " #   Column   Non-Null Count   Dtype  \n",
      "---  ------   --------------   -----  \n",
      " 0   id       100000 non-null  object \n",
      " 1   f0       100000 non-null  float64\n",
      " 2   f1       100000 non-null  float64\n",
      " 3   f2       100000 non-null  float64\n",
      " 4   product  100000 non-null  float64\n",
      "dtypes: float64(4), object(1)\n",
      "memory usage: 3.8+ MB\n",
      "None\n",
      "\n",
      "📌 Información Región 2\n",
      "<class 'pandas.core.frame.DataFrame'>\n",
      "RangeIndex: 100000 entries, 0 to 99999\n",
      "Data columns (total 5 columns):\n",
      " #   Column   Non-Null Count   Dtype  \n",
      "---  ------   --------------   -----  \n",
      " 0   id       100000 non-null  object \n",
      " 1   f0       100000 non-null  float64\n",
      " 2   f1       100000 non-null  float64\n",
      " 3   f2       100000 non-null  float64\n",
      " 4   product  100000 non-null  float64\n",
      "dtypes: float64(4), object(1)\n",
      "memory usage: 3.8+ MB\n",
      "None\n",
      "\n",
      "📊 Estadísticas de la variable objetivo 'product'\n",
      "Región 0:\n"
     ]
    },
    {
     "data": {
      "text/plain": [
       "count    100000.000000\n",
       "mean         92.500000\n",
       "std          44.288691\n",
       "min           0.000000\n",
       "25%          56.497507\n",
       "50%          91.849972\n",
       "75%         128.564089\n",
       "max         185.364347\n",
       "Name: product, dtype: float64"
      ]
     },
     "metadata": {},
     "output_type": "display_data"
    },
    {
     "name": "stdout",
     "output_type": "stream",
     "text": [
      "Región 1:\n"
     ]
    },
    {
     "data": {
      "text/plain": [
       "count    100000.000000\n",
       "mean         68.825000\n",
       "std          45.944423\n",
       "min           0.000000\n",
       "25%          26.953261\n",
       "50%          57.085625\n",
       "75%         107.813044\n",
       "max         137.945408\n",
       "Name: product, dtype: float64"
      ]
     },
     "metadata": {},
     "output_type": "display_data"
    },
    {
     "name": "stdout",
     "output_type": "stream",
     "text": [
      "Región 2:\n"
     ]
    },
    {
     "data": {
      "text/plain": [
       "count    100000.000000\n",
       "mean         95.000000\n",
       "std          44.749921\n",
       "min           0.000000\n",
       "25%          59.450441\n",
       "50%          94.925613\n",
       "75%         130.595027\n",
       "max         190.029838\n",
       "Name: product, dtype: float64"
      ]
     },
     "metadata": {},
     "output_type": "display_data"
    }
   ],
   "source": [
    "\"\"\"\n",
    "2.2 Validación de estructura y tipos de datos\n",
    "Propósito: Revisar columnas, tipos de datos y consistencia general de los tres datasets.\n",
    "\"\"\"\n",
    "\n",
    "# Revisar información general de cada dataset\n",
    "print(\"📌 Información Región 0\")\n",
    "print(df_region_0.info())\n",
    "print(\"\\n📌 Información Región 1\")\n",
    "print(df_region_1.info())\n",
    "print(\"\\n📌 Información Región 2\")\n",
    "print(df_region_2.info())\n",
    "\n",
    "# Revisar estadísticas descriptivas de la variable objetivo\n",
    "print(\"\\n📊 Estadísticas de la variable objetivo 'product'\")\n",
    "print(\"Región 0:\")\n",
    "display(df_region_0['product'].describe())\n",
    "\n",
    "print(\"Región 1:\")\n",
    "display(df_region_1['product'].describe())\n",
    "\n",
    "print(\"Región 2:\")\n",
    "display(df_region_2['product'].describe())\n"
   ]
  },
  {
   "cell_type": "markdown",
   "id": "805f84c0",
   "metadata": {},
   "source": [
    "### ✅ Conclusión Sección 2.2 — Validación de estructura y tipos de datos\n",
    "\n",
    "- Los tres datasets contienen **100,000 registros y 5 columnas**: `id`, `f0`, `f1`, `f2` y `product`.  \n",
    "- Las variables `f0`, `f1`, `f2` y `product` se encuentran en formato **float64**, adecuado para el modelado.  \n",
    "- La columna `id` está en formato **object** y sirve como identificador único de cada pozo.  \n",
    "- No se detectaron valores nulos, lo que indica que los datos están completos.  \n",
    "- La variable objetivo `product` muestra diferencias entre regiones:  \n",
    "  - **Región 0**: media ≈ 92.5, rango de 0 a 185.  \n",
    "  - **Región 1**: media ≈ 68.8, rango de 0 a 137.  \n",
    "  - **Región 2**: media ≈ 95.0, rango de 0 a 190.  \n",
    "\n",
    "Con esta validación confirmamos que los datasets están completos, con tipos de datos correctos y listos para continuar con la revisión de calidad (valores nulos y duplicados) en la siguiente subsección.\n"
   ]
  },
  {
   "cell_type": "markdown",
   "id": "302da8ba",
   "metadata": {},
   "source": [
    "## 2.3 Revisión de valores nulos y duplicados\n",
    "\n",
    "En esta subsección se verificará la calidad de los datos en cada uno de los tres datasets.  \n",
    "El objetivo es identificar si existen valores nulos o registros duplicados que puedan distorsionar el entrenamiento del modelo.  \n",
    "Contar con datos completos y sin duplicados es esencial para garantizar la validez de los resultados y la fiabilidad de las predicciones.\n"
   ]
  },
  {
   "cell_type": "code",
   "execution_count": 4,
   "id": "4476887e",
   "metadata": {},
   "outputs": [
    {
     "name": "stdout",
     "output_type": "stream",
     "text": [
      "🔎 Valores nulos por dataset:\n",
      "Región 0:\n",
      " id         0\n",
      "f0         0\n",
      "f1         0\n",
      "f2         0\n",
      "product    0\n",
      "dtype: int64\n",
      "\n",
      "Región 1:\n",
      " id         0\n",
      "f0         0\n",
      "f1         0\n",
      "f2         0\n",
      "product    0\n",
      "dtype: int64\n",
      "\n",
      "Región 2:\n",
      " id         0\n",
      "f0         0\n",
      "f1         0\n",
      "f2         0\n",
      "product    0\n",
      "dtype: int64\n",
      "\n",
      "📌 Registros duplicados por dataset:\n",
      "Región 0: 0\n",
      "Región 1: 0\n",
      "Región 2: 0\n"
     ]
    }
   ],
   "source": [
    "\"\"\"\n",
    "2.3 Revisión de valores nulos y duplicados\n",
    "Propósito: Identificar valores nulos y registros duplicados en los tres datasets.\n",
    "\"\"\"\n",
    "\n",
    "# Revisión de valores nulos\n",
    "print(\"🔎 Valores nulos por dataset:\")\n",
    "print(\"Región 0:\\n\", df_region_0.isnull().sum())\n",
    "print(\"\\nRegión 1:\\n\", df_region_1.isnull().sum())\n",
    "print(\"\\nRegión 2:\\n\", df_region_2.isnull().sum())\n",
    "\n",
    "# Revisión de registros duplicados\n",
    "print(\"\\n📌 Registros duplicados por dataset:\")\n",
    "print(\"Región 0:\", df_region_0.duplicated().sum())\n",
    "print(\"Región 1:\", df_region_1.duplicated().sum())\n",
    "print(\"Región 2:\", df_region_2.duplicated().sum())\n"
   ]
  },
  {
   "cell_type": "markdown",
   "id": "0f069602",
   "metadata": {},
   "source": [
    "### ✅ Conclusión Sección 2.3 — Revisión de valores nulos y duplicados\n",
    "\n",
    "- En los tres datasets (`geo_data_0.csv`, `geo_data_1.csv`, `geo_data_2.csv`) no se detectaron **valores nulos** en ninguna de las columnas.  \n",
    "- Tampoco se encontraron **registros duplicados** en ninguno de los conjuntos de datos.  \n",
    "\n",
    "Esto confirma que la información está completa y no requiere procesos adicionales de limpieza en esta etapa.  \n",
    "Los datos se encuentran listos para avanzar hacia el **análisis exploratorio inicial** en la siguiente subsección.\n"
   ]
  },
  {
   "cell_type": "markdown",
   "id": "5170702b",
   "metadata": {},
   "source": [
    "## 2.4 Análisis exploratorio inicial\n",
    "\n",
    "En esta subsección se realizará un análisis preliminar de los datos con el objetivo de comprender mejor la distribución de la variable objetivo `product` y la relación entre las características (`f0`, `f1`, `f2`).  \n",
    "Este paso permitirá identificar patrones iniciales, rangos de variación y posibles correlaciones, lo cual servirá como base para el modelado posterior.\n"
   ]
  },
  {
   "cell_type": "code",
   "execution_count": 5,
   "id": "51cd1107",
   "metadata": {},
   "outputs": [
    {
     "data": {
      "image/png": "[encoded data removed]",
      "text/plain": [
       "<Figure size 1800x500 with 3 Axes>"
      ]
     },
     "metadata": {},
     "output_type": "display_data"
    },
    {
     "name": "stdout",
     "output_type": "stream",
     "text": [
      "\n",
      "📊 Correlaciones Región 0:\n"
     ]
    },
    {
     "data": {
      "text/html": [
       "<div>\n",
       "<style scoped>\n",
       "    .dataframe tbody tr th:only-of-type {\n",
       "        vertical-align: middle;\n",
       "    }\n",
       "\n",
       "    .dataframe tbody tr th {\n",
       "        vertical-align: top;\n",
       "    }\n",
       "\n",
       "    .dataframe thead th {\n",
       "        text-align: right;\n",
       "    }\n",
       "</style>\n",
       "<table border=\"1\" class=\"dataframe\">\n",
       "  <thead>\n",
       "    <tr style=\"text-align: right;\">\n",
       "      <th></th>\n",
       "      <th>f0</th>\n",
       "      <th>f1</th>\n",
       "      <th>f2</th>\n",
       "      <th>product</th>\n",
       "    </tr>\n",
       "  </thead>\n",
       "  <tbody>\n",
       "    <tr>\n",
       "      <th>f0</th>\n",
       "      <td>1.000000</td>\n",
       "      <td>-0.440723</td>\n",
       "      <td>-0.003153</td>\n",
       "      <td>0.143536</td>\n",
       "    </tr>\n",
       "    <tr>\n",
       "      <th>f1</th>\n",
       "      <td>-0.440723</td>\n",
       "      <td>1.000000</td>\n",
       "      <td>0.001724</td>\n",
       "      <td>-0.192356</td>\n",
       "    </tr>\n",
       "    <tr>\n",
       "      <th>f2</th>\n",
       "      <td>-0.003153</td>\n",
       "      <td>0.001724</td>\n",
       "      <td>1.000000</td>\n",
       "      <td>0.483663</td>\n",
       "    </tr>\n",
       "    <tr>\n",
       "      <th>product</th>\n",
       "      <td>0.143536</td>\n",
       "      <td>-0.192356</td>\n",
       "      <td>0.483663</td>\n",
       "      <td>1.000000</td>\n",
       "    </tr>\n",
       "  </tbody>\n",
       "</table>\n",
       "</div>"
      ],
      "text/plain": [
       "               f0        f1        f2   product\n",
       "f0       1.000000 -0.440723 -0.003153  0.143536\n",
       "f1      -0.440723  1.000000  0.001724 -0.192356\n",
       "f2      -0.003153  0.001724  1.000000  0.483663\n",
       "product  0.143536 -0.192356  0.483663  1.000000"
      ]
     },
     "metadata": {},
     "output_type": "display_data"
    },
    {
     "data": {
      "image/png": "[encoded data removed]",
      "text/plain": [
       "<Figure size 600x400 with 2 Axes>"
      ]
     },
     "metadata": {},
     "output_type": "display_data"
    },
    {
     "name": "stdout",
     "output_type": "stream",
     "text": [
      "\n",
      "📊 Correlaciones Región 1:\n"
     ]
    },
    {
     "data": {
      "text/html": [
       "<div>\n",
       "<style scoped>\n",
       "    .dataframe tbody tr th:only-of-type {\n",
       "        vertical-align: middle;\n",
       "    }\n",
       "\n",
       "    .dataframe tbody tr th {\n",
       "        vertical-align: top;\n",
       "    }\n",
       "\n",
       "    .dataframe thead th {\n",
       "        text-align: right;\n",
       "    }\n",
       "</style>\n",
       "<table border=\"1\" class=\"dataframe\">\n",
       "  <thead>\n",
       "    <tr style=\"text-align: right;\">\n",
       "      <th></th>\n",
       "      <th>f0</th>\n",
       "      <th>f1</th>\n",
       "      <th>f2</th>\n",
       "      <th>product</th>\n",
       "    </tr>\n",
       "  </thead>\n",
       "  <tbody>\n",
       "    <tr>\n",
       "      <th>f0</th>\n",
       "      <td>1.000000</td>\n",
       "      <td>0.182287</td>\n",
       "      <td>-0.001777</td>\n",
       "      <td>-0.030491</td>\n",
       "    </tr>\n",
       "    <tr>\n",
       "      <th>f1</th>\n",
       "      <td>0.182287</td>\n",
       "      <td>1.000000</td>\n",
       "      <td>-0.002595</td>\n",
       "      <td>-0.010155</td>\n",
       "    </tr>\n",
       "    <tr>\n",
       "      <th>f2</th>\n",
       "      <td>-0.001777</td>\n",
       "      <td>-0.002595</td>\n",
       "      <td>1.000000</td>\n",
       "      <td>0.999397</td>\n",
       "    </tr>\n",
       "    <tr>\n",
       "      <th>product</th>\n",
       "      <td>-0.030491</td>\n",
       "      <td>-0.010155</td>\n",
       "      <td>0.999397</td>\n",
       "      <td>1.000000</td>\n",
       "    </tr>\n",
       "  </tbody>\n",
       "</table>\n",
       "</div>"
      ],
      "text/plain": [
       "               f0        f1        f2   product\n",
       "f0       1.000000  0.182287 -0.001777 -0.030491\n",
       "f1       0.182287  1.000000 -0.002595 -0.010155\n",
       "f2      -0.001777 -0.002595  1.000000  0.999397\n",
       "product -0.030491 -0.010155  0.999397  1.000000"
      ]
     },
     "metadata": {},
     "output_type": "display_data"
    },
    {
     "data": {
      "image/png": "[encoded data removed]",
      "text/plain": [
       "<Figure size 600x400 with 2 Axes>"
      ]
     },
     "metadata": {},
     "output_type": "display_data"
    },
    {
     "name": "stdout",
     "output_type": "stream",
     "text": [
      "\n",
      "📊 Correlaciones Región 2:\n"
     ]
    },
    {
     "data": {
      "text/html": [
       "<div>\n",
       "<style scoped>\n",
       "    .dataframe tbody tr th:only-of-type {\n",
       "        vertical-align: middle;\n",
       "    }\n",
       "\n",
       "    .dataframe tbody tr th {\n",
       "        vertical-align: top;\n",
       "    }\n",
       "\n",
       "    .dataframe thead th {\n",
       "        text-align: right;\n",
       "    }\n",
       "</style>\n",
       "<table border=\"1\" class=\"dataframe\">\n",
       "  <thead>\n",
       "    <tr style=\"text-align: right;\">\n",
       "      <th></th>\n",
       "      <th>f0</th>\n",
       "      <th>f1</th>\n",
       "      <th>f2</th>\n",
       "      <th>product</th>\n",
       "    </tr>\n",
       "  </thead>\n",
       "  <tbody>\n",
       "    <tr>\n",
       "      <th>f0</th>\n",
       "      <td>1.000000</td>\n",
       "      <td>0.000528</td>\n",
       "      <td>-0.000448</td>\n",
       "      <td>-0.001987</td>\n",
       "    </tr>\n",
       "    <tr>\n",
       "      <th>f1</th>\n",
       "      <td>0.000528</td>\n",
       "      <td>1.000000</td>\n",
       "      <td>0.000779</td>\n",
       "      <td>-0.001012</td>\n",
       "    </tr>\n",
       "    <tr>\n",
       "      <th>f2</th>\n",
       "      <td>-0.000448</td>\n",
       "      <td>0.000779</td>\n",
       "      <td>1.000000</td>\n",
       "      <td>0.445871</td>\n",
       "    </tr>\n",
       "    <tr>\n",
       "      <th>product</th>\n",
       "      <td>-0.001987</td>\n",
       "      <td>-0.001012</td>\n",
       "      <td>0.445871</td>\n",
       "      <td>1.000000</td>\n",
       "    </tr>\n",
       "  </tbody>\n",
       "</table>\n",
       "</div>"
      ],
      "text/plain": [
       "               f0        f1        f2   product\n",
       "f0       1.000000  0.000528 -0.000448 -0.001987\n",
       "f1       0.000528  1.000000  0.000779 -0.001012\n",
       "f2      -0.000448  0.000779  1.000000  0.445871\n",
       "product -0.001987 -0.001012  0.445871  1.000000"
      ]
     },
     "metadata": {},
     "output_type": "display_data"
    },
    {
     "data": {
      "image/png": "[encoded data removed]",
      "text/plain": [
       "<Figure size 600x400 with 2 Axes>"
      ]
     },
     "metadata": {},
     "output_type": "display_data"
    }
   ],
   "source": [
    "\"\"\"\n",
    "2.4 Análisis exploratorio inicial\n",
    "Propósito: Explorar la distribución de la variable objetivo y las correlaciones entre características.\n",
    "\"\"\"\n",
    "\n",
    "from IPython.display import display\n",
    "\n",
    "# Histogramas de la variable objetivo en cada región\n",
    "fig, axes = plt.subplots(1, 3, figsize=(18, 5), sharey=True)\n",
    "sns.histplot(df_region_0['product'], bins=50, ax=axes[0], color=\"skyblue\")\n",
    "axes[0].set_title(\"Distribución 'product' - Región 0\")\n",
    "\n",
    "sns.histplot(df_region_1['product'], bins=50, ax=axes[1], color=\"lightgreen\")\n",
    "axes[1].set_title(\"Distribución 'product' - Región 1\")\n",
    "\n",
    "sns.histplot(df_region_2['product'], bins=50, ax=axes[2], color=\"salmon\")\n",
    "axes[2].set_title(\"Distribución 'product' - Región 2\")\n",
    "\n",
    "plt.tight_layout()\n",
    "plt.show()\n",
    "\n",
    "num_cols = [\"f0\", \"f1\", \"f2\", \"product\"]\n",
    "\n",
    "# Matriz de correlaciones por región\n",
    "for i, df in enumerate([df_region_0, df_region_1, df_region_2]):\n",
    "    print(f\"\\n📊 Correlaciones Región {i}:\")\n",
    "    corr = df[num_cols].corr()  # aquí ya no intenta convertir 'id'\n",
    "    display(corr)\n",
    "\n",
    "    # Heatmap\n",
    "    plt.figure(figsize=(6, 4))\n",
    "    sns.heatmap(corr, annot=True, cmap=\"coolwarm\", fmt=\".2f\", vmin=-1, vmax=1)\n",
    "    plt.title(f\"Heatmap de correlaciones - Región {i}\")\n",
    "    plt.tight_layout()\n",
    "    plt.show()\n"
   ]
  },
  {
   "cell_type": "markdown",
   "id": "50083e82",
   "metadata": {},
   "source": [
    "### ✅ Conclusión Sección 2.4 — Conclusiones de la correlación de variables\n",
    "\n",
    "- **Región 0**: La variable `f2` muestra la correlación más alta con la variable objetivo `product` (≈0.48), lo que indica que tiene potencial como predictor. `f0` y `f1` muestran correlaciones débiles o negativas con `product`.\n",
    "\n",
    "- **Región 1**: Existe una correlación casi perfecta entre `f2` y `product` (≈0.999), lo que sugiere que esta región puede contener datos con fuerte dependencia entre una característica y la variable objetivo. Sin embargo, esto también podría implicar riesgo de sobreajuste o redundancia en la información.\n",
    "\n",
    "- **Región 2**: La característica `f2` vuelve a ser la más correlacionada con `product` (≈0.45). El resto de las variables (`f0` y `f1`) muestran correlaciones cercanas a cero, con escaso aporte predictivo.\n",
    "\n",
    "➡️ **Conclusión general**: En las tres regiones, la característica `f2` es la que mayor información aporta para predecir el volumen de reservas (`product`). La Región 1 muestra una dependencia extremadamente fuerte, que puede ser ventajosa para el modelo, aunque es necesario evaluar si no se trata de una relación demasiado artificial que afecte la generalización.\n"
   ]
  },
  {
   "cell_type": "markdown",
   "id": "aea7fa66",
   "metadata": {},
   "source": [
    "## 2.5 Visualización exploratoria complementaria\n",
    "\n",
    "Con el fin de comparar las diferencias en la distribución de la variable objetivo `product` entre las tres regiones, se utilizan diagramas de caja (*boxplots*).  \n",
    "\n",
    "Estos gráficos permiten identificar de manera clara:\n",
    "- La mediana de producción por región.  \n",
    "- La dispersión y rango intercuartílico.  \n",
    "- La presencia de valores atípicos.  \n",
    "\n",
    "Este análisis es fundamental para anticipar qué regiones pueden ofrecer mayor estabilidad o variabilidad en la producción antes de entrenar los modelos predictivos.\n"
   ]
  },
  {
   "cell_type": "code",
   "execution_count": 6,
   "id": "ea2ae636",
   "metadata": {},
   "outputs": [
    {
     "data": {
      "image/png": "[encoded data removed]",
      "text/plain": [
       "<Figure size 1000x600 with 1 Axes>"
      ]
     },
     "metadata": {},
     "output_type": "display_data"
    }
   ],
   "source": [
    "\"\"\"\n",
    "2.5 Visualización exploratoria complementaria\n",
    "Propósito: Comparar mediante boxplots la distribución de la variable objetivo `product`\n",
    "entre las tres regiones, identificando diferencias en medianas, dispersión y outliers.\n",
    "\"\"\"\n",
    "\n",
    "import matplotlib.pyplot as plt\n",
    "import seaborn as sns\n",
    "\n",
    "# Unimos la variable objetivo de cada región en un solo DataFrame para comparación\n",
    "import pandas as pd\n",
    "\n",
    "df_products = pd.DataFrame({\n",
    "    \"Región 0\": df_region_0[\"product\"],\n",
    "    \"Región 1\": df_region_1[\"product\"],\n",
    "    \"Región 2\": df_region_2[\"product\"]\n",
    "})\n",
    "\n",
    "plt.figure(figsize=(10,6))\n",
    "sns.boxplot(data=df_products, palette=[\"skyblue\",\"lightgreen\",\"salmon\"])\n",
    "plt.title(\"Distribución comparativa de la variable 'product' por región\", fontsize=14)\n",
    "plt.ylabel(\"Reservas (miles de barriles)\")\n",
    "plt.xlabel(\"Regiones\")\n",
    "plt.show()\n"
   ]
  },
  {
   "cell_type": "markdown",
   "id": "a5a47f5a",
   "metadata": {},
   "source": [
    "### ✅ Conclusión Sección 2.5 —  Conclusiones de los boxplots comparativos\n",
    "\n",
    "- **Región 0**: Presenta una mediana cercana a 95 mil barriles, con un rango intercuartílico amplio. Muestra dispersión significativa, pero mantiene una proporción estable de valores altos.  \n",
    "- **Región 1**: Tiene la mediana más baja (≈58 mil barriles), con mayor concentración de valores bajos en comparación con las otras regiones. Esto sugiere que, en promedio, es la región menos prometedora.  \n",
    "- **Región 2**: Su mediana es la más alta (≈100 mil barriles), con una distribución amplia que incluye valores elevados. Es la región que aparenta mayor potencial en cuanto a producción promedio.\n",
    "\n",
    "➡️ **Conclusión general**: A nivel exploratorio, la **Región 2** destaca por su mayor mediana y rango superior en la variable `product`, mientras que la Región 1 se percibe menos favorable para la apertura de nuevos pozos.\n"
   ]
  },
  {
   "cell_type": "markdown",
   "id": "f6ca8a67",
   "metadata": {},
   "source": [
    "## ✅ Conclusión Sección 2 —  Carga y exploración de datasets\n",
    "\n",
    "📌 **Resumen global de hallazgos exploratorios**\n",
    "\n",
    "1. **Dimensiones de los datos**:  \n",
    "   Cada región cuenta con **100,000 registros** y **5 columnas** (`id`, `f0`, `f1`, `f2`, `product`).  \n",
    "\n",
    "2. **Valores faltantes y duplicados**:  \n",
    "   No se identificaron valores nulos ni registros duplicados en ninguno de los tres datasets, lo que confirma que los datos están completos y listos para modelado.  \n",
    "\n",
    "3. **Distribución de la variable objetivo (`product`)**:  \n",
    "   - Región 0: Media ≈ 92.5 mil barriles.  \n",
    "   - Región 1: Media ≈ 68.8 mil barriles (la más baja).  \n",
    "   - Región 2: Media ≈ 95 mil barriles (la más alta).  \n",
    "\n",
    "4. **Correlaciones**:  \n",
    "   - En todas las regiones, la variable **`f2`** mostró la mayor correlación con la variable objetivo.  \n",
    "   - Región 1 tiene una correlación casi perfecta (`f2` vs `product` ≈ 0.999), lo que puede indicar un patrón fuerte aunque con riesgo de sobreajuste.  \n",
    "   - Regiones 0 y 2 presentan correlaciones moderadas entre `f2` y `product` (≈0.45-0.48).  \n",
    "\n",
    "5. **Comparación mediante boxplots**:  \n",
    "   - Región 2 tiene la **mediana más alta** de producción (≈100 mil barriles) y mayor rango de valores altos.  \n",
    "   - Región 0 muestra valores consistentes, con mediana ligeramente inferior (≈95 mil barriles).  \n",
    "   - Región 1 tiene la **mediana más baja** (≈58 mil barriles), lo que sugiere menor potencial productivo.  \n",
    "\n",
    "---\n",
    "\n",
    "➡️ **Conclusión de la Sección 2**:  \n",
    "La exploración de datos sugiere que la **Región 2** es la más prometedora por su mayor mediana de reservas y amplitud de producción, mientras que la **Región 1** es la menos favorable. La variable **`f2`** será clave en el modelado predictivo para las tres regiones.\n"
   ]
  },
  {
   "cell_type": "markdown",
   "id": "11f5a790",
   "metadata": {},
   "source": [
    "# 3. Modelado y validación de predicciones\n",
    "\n",
    "En esta sección se construyen y evalúan modelos de **regresión lineal** para predecir el volumen de reservas (`product`) en cada región.  \n",
    "\n",
    "El flujo de trabajo incluye:  \n",
    "- Dividir los datos en conjuntos de **entrenamiento (75%)** y **validación (25%)**.  \n",
    "- Entrenar un modelo por región utilizando las características `f0`, `f1` y `f2`.  \n",
    "- Evaluar el desempeño de cada modelo con la métrica **RMSE** y analizar la media de las predicciones frente a los valores reales.  \n",
    "- Almacenar las predicciones y valores observados para su uso posterior en los cálculos de beneficio y simulaciones con bootstrapping.\n",
    "\n",
    "Este análisis permitirá identificar qué región presenta un mejor ajuste del modelo y, por ende, mayor confiabilidad en sus proyecciones.\n"
   ]
  },
  {
   "cell_type": "markdown",
   "id": "e278c8dd",
   "metadata": {},
   "source": [
    "## 3.1 Preparación de los datos de entrenamiento y validación\n",
    "\n",
    "Para evaluar el desempeño de los modelos en cada región, los datos se dividen en:  \n",
    "- **Conjunto de entrenamiento (75%)**: utilizado para ajustar el modelo.  \n",
    "- **Conjunto de validación (25%)**: empleado para medir el rendimiento en datos no vistos.  \n",
    "\n",
    "Este procedimiento asegura una evaluación objetiva, evitando que el modelo se ajuste únicamente a los datos de entrenamiento. La división se realiza con la misma proporción en las tres regiones para mantener la consistencia del análisis.\n"
   ]
  },
  {
   "cell_type": "code",
   "execution_count": 7,
   "id": "6905a709",
   "metadata": {},
   "outputs": [
    {
     "name": "stdout",
     "output_type": "stream",
     "text": [
      "Región 0 -> Entrenamiento: (75000, 3)  Validación: (25000, 3)\n",
      "Región 1 -> Entrenamiento: (75000, 3)  Validación: (25000, 3)\n",
      "Región 2 -> Entrenamiento: (75000, 3)  Validación: (25000, 3)\n"
     ]
    }
   ],
   "source": [
    "\"\"\"\n",
    "3.1 Preparación de los datos de entrenamiento y validación\n",
    "Propósito: Dividir los datasets de cada región en conjuntos de entrenamiento (75%)\n",
    "y validación (25%) para garantizar una evaluación objetiva del modelo.\n",
    "\"\"\"\n",
    "\n",
    "from sklearn.model_selection import train_test_split\n",
    "\n",
    "# Separación de features y target por región\n",
    "features_0 = df_region_0[[\"f0\", \"f1\", \"f2\"]]\n",
    "target_0   = df_region_0[\"product\"]\n",
    "\n",
    "features_1 = df_region_1[[\"f0\", \"f1\", \"f2\"]]\n",
    "target_1   = df_region_1[\"product\"]\n",
    "\n",
    "features_2 = df_region_2[[\"f0\", \"f1\", \"f2\"]]\n",
    "target_2   = df_region_2[\"product\"]\n",
    "\n",
    "# División train/valid con proporción 75:25\n",
    "X_train_0, X_valid_0, y_train_0, y_valid_0 = train_test_split(features_0, target_0, test_size=0.25, random_state=42)\n",
    "X_train_1, X_valid_1, y_train_1, y_valid_1 = train_test_split(features_1, target_1, test_size=0.25, random_state=42)\n",
    "X_train_2, X_valid_2, y_train_2, y_valid_2 = train_test_split(features_2, target_2, test_size=0.25, random_state=42)\n",
    "\n",
    "# Mostrar tamaños de los conjuntos como verificación\n",
    "print(\"Región 0 -> Entrenamiento:\", X_train_0.shape, \" Validación:\", X_valid_0.shape)\n",
    "print(\"Región 1 -> Entrenamiento:\", X_train_1.shape, \" Validación:\", X_valid_1.shape)\n",
    "print(\"Región 2 -> Entrenamiento:\", X_train_2.shape, \" Validación:\", X_valid_2.shape)\n"
   ]
  },
  {
   "cell_type": "markdown",
   "id": "c016971c",
   "metadata": {},
   "source": [
    "### ✅ Conclusión Sección 3.1 —  Conclusiones de la preparación de datos\n",
    "\n",
    "- Cada región fue dividida en **75,000 registros para entrenamiento** y **25,000 para validación**, respetando la proporción 75:25 establecida.  \n",
    "- La división se aplicó de forma consistente en las tres regiones, asegurando comparabilidad en el rendimiento de los modelos.  \n",
    "- Esta preparación garantiza que el ajuste de la regresión lineal se entrene con suficientes datos, mientras que el conjunto de validación permitirá una evaluación objetiva de la capacidad predictiva.\n"
   ]
  },
  {
   "cell_type": "markdown",
   "id": "d870abee",
   "metadata": {},
   "source": [
    "## 3.2 Entrenamiento de modelos de regresión lineal\n",
    "\n",
    "En esta etapa se entrena un modelo de **regresión lineal** para cada región utilizando las características `f0`, `f1` y `f2` como variables predictoras, y `product` como variable objetivo.  \n",
    "\n",
    "La regresión lineal se selecciona por ser un modelo interpretable y eficiente, capaz de identificar relaciones lineales entre las características y el volumen de reservas. Entrenar un modelo por región permitirá comparar su desempeño y determinar cuál región presenta mayor capacidad predictiva.\n"
   ]
  },
  {
   "cell_type": "code",
   "execution_count": 8,
   "id": "fa04caa4",
   "metadata": {},
   "outputs": [
    {
     "name": "stdout",
     "output_type": "stream",
     "text": [
      "Región 0 -> Intercepto: 77.66624978042198  Coeficientes: [  3.83225372 -14.26047297   6.59357294]\n",
      "Región 1 -> Intercepto: 1.647671049967272  Coeficientes: [-1.44912960e-01 -2.16715104e-02  2.69531092e+01]\n",
      "Región 2 -> Intercepto: 80.55786205197197  Coeficientes: [-0.08415777 -0.01546094  5.75011968]\n"
     ]
    }
   ],
   "source": [
    "\"\"\"\n",
    "3.2 Entrenamiento de modelos de regresión lineal\n",
    "Propósito: Ajustar un modelo de regresión lineal por región utilizando las\n",
    "características f0, f1 y f2 para predecir la variable objetivo product.\n",
    "\"\"\"\n",
    "\n",
    "from sklearn.linear_model import LinearRegression\n",
    "\n",
    "# Inicializar modelos\n",
    "model_0 = LinearRegression()\n",
    "model_1 = LinearRegression()\n",
    "model_2 = LinearRegression()\n",
    "\n",
    "# Entrenar modelos por región\n",
    "model_0.fit(X_train_0, y_train_0)\n",
    "model_1.fit(X_train_1, y_train_1)\n",
    "model_2.fit(X_train_2, y_train_2)\n",
    "\n",
    "# Mostrar coeficientes y el intercepto de cada modelo como verificación\n",
    "print(\"Región 0 -> Intercepto:\", model_0.intercept_, \" Coeficientes:\", model_0.coef_)\n",
    "print(\"Región 1 -> Intercepto:\", model_1.intercept_, \" Coeficientes:\", model_1.coef_)\n",
    "print(\"Región 2 -> Intercepto:\", model_2.intercept_, \" Coeficientes:\", model_2.coef_)\n"
   ]
  },
  {
   "cell_type": "markdown",
   "id": "6e66dbdb",
   "metadata": {},
   "source": [
    "### ✅ Conclusión Sección 3.2 — Entrenamiento de modelos de regresión lineal\n",
    "\n",
    "- **Región 0**:  \n",
    "  - Intercepto ≈ 77.7  \n",
    "  - Coeficientes: `f0` (+3.83), `f1` (−14.26), `f2` (+6.59)  \n",
    "  - `f1` tiene un efecto negativo marcado, mientras que `f2` aporta de manera positiva y considerable a la predicción.\n",
    "\n",
    "- **Región 1**:  \n",
    "  - Intercepto ≈ 1.65  \n",
    "  - Coeficientes: `f0` (−0.14), `f1` (−0.02), `f2` (+26.95)  \n",
    "  - La variable `f2` domina de forma clara el modelo, con peso muy elevado frente a `f0` y `f1` que tienen impacto casi nulo.\n",
    "\n",
    "- **Región 2**:  \n",
    "  - Intercepto ≈ 80.6  \n",
    "  - Coeficientes: `f0` (−0.08), `f1` (−0.015), `f2` (+5.75)  \n",
    "  - `f2` nuevamente muestra correlación positiva importante, mientras que `f0` y `f1` aportan poco o de manera negativa.\n",
    "\n",
    "➡️ **Conclusión general**: En todas las regiones, la variable **`f2`** resulta ser la más relevante para explicar la variable objetivo `product`. En la **Región 1** este efecto es extremadamente dominante, mientras que en las Regiones 0 y 2 el impacto es más equilibrado pero aún significativo.\n"
   ]
  },
  {
   "cell_type": "markdown",
   "id": "802dcdd6",
   "metadata": {},
   "source": [
    "## 3.3 Evaluación de modelos en conjunto de validación\n",
    "\n",
    "Para determinar el desempeño de los modelos entrenados, se utilizan los conjuntos de **validación (25%)** de cada región.  \n",
    "\n",
    "El análisis incluye:  \n",
    "- **RMSE (Root Mean Squared Error)**: mide el error promedio en las predicciones en las mismas unidades que la variable objetivo (`product`). Cuanto más bajo sea, mejor será el ajuste.  \n",
    "- **Media de las predicciones**: permite comparar los valores esperados del modelo con los valores reales promedio de cada región.  \n",
    "\n",
    "Este paso es clave para identificar cuál modelo logra representar mejor la producción esperada de cada región.\n"
   ]
  },
  {
   "cell_type": "code",
   "execution_count": 9,
   "id": "6bc14611",
   "metadata": {},
   "outputs": [
    {
     "name": "stdout",
     "output_type": "stream",
     "text": [
      "📊 Región 0\n",
      "   RMSE: 37.76\n",
      "   Media predicciones: 92.40\n",
      "   Media valores reales: 92.33\n",
      "--------------------------------------------------\n",
      "📊 Región 1\n",
      "   RMSE: 0.89\n",
      "   Media predicciones: 68.71\n",
      "   Media valores reales: 68.73\n",
      "--------------------------------------------------\n",
      "📊 Región 2\n",
      "   RMSE: 40.15\n",
      "   Media predicciones: 94.77\n",
      "   Media valores reales: 95.15\n",
      "--------------------------------------------------\n"
     ]
    }
   ],
   "source": [
    "\"\"\"\n",
    "3.3 Evaluación de modelos en conjunto de validación\n",
    "Propósito: Calcular RMSE y la media de las predicciones en cada región para\n",
    "evaluar la precisión de los modelos en datos no vistos (compatible con versiones antiguas de sklearn).\n",
    "\"\"\"\n",
    "\n",
    "from sklearn.metrics import mean_squared_error\n",
    "import numpy as np\n",
    "\n",
    "def evaluar_modelo(model, X_valid, y_valid, region):\n",
    "    # Predicciones (aseguramos 1D)\n",
    "    preds = model.predict(X_valid)\n",
    "    preds = np.asarray(preds).ravel()\n",
    "    y_true = np.asarray(y_valid).ravel()\n",
    "\n",
    "    # MSE y RMSE (sin usar el arg 'squared')\n",
    "    mse = mean_squared_error(y_true, preds)\n",
    "    rmse = np.sqrt(mse)\n",
    "\n",
    "    # Medias\n",
    "    media_pred = float(np.mean(preds))\n",
    "    media_real = float(np.mean(y_true))\n",
    "\n",
    "    print(f\"📊 Región {region}\")\n",
    "    print(f\"   RMSE: {rmse:.2f}\")\n",
    "    print(f\"   Media predicciones: {media_pred:.2f}\")\n",
    "    print(f\"   Media valores reales: {media_real:.2f}\")\n",
    "    print(\"-\"*50)\n",
    "\n",
    "    return rmse, media_pred, media_real, preds, y_true\n",
    "\n",
    "# Evaluación por región\n",
    "resultados = {}\n",
    "resultados[\"Región 0\"] = evaluar_modelo(model_0, X_valid_0, y_valid_0, 0)\n",
    "resultados[\"Región 1\"] = evaluar_modelo(model_1, X_valid_1, y_valid_1, 1)\n",
    "resultados[\"Región 2\"] = evaluar_modelo(model_2, X_valid_2, y_valid_2, 2)\n",
    "\n"
   ]
  },
  {
   "cell_type": "markdown",
   "id": "2f63dda9",
   "metadata": {},
   "source": [
    "### ✅ Conclusión Sección 3.3 — Evaluación de modelos en conjunto de validación\n",
    "\n",
    "- **Región 0**:  \n",
    "  - RMSE ≈ 37.76  \n",
    "  - Media de predicciones ≈ 92.40  \n",
    "  - Media real ≈ 92.33  \n",
    "  - El modelo se aproxima bien al promedio real, aunque con un error moderado en las predicciones individuales.\n",
    "\n",
    "- **Región 1**:  \n",
    "  - RMSE ≈ 0.89  \n",
    "  - Media de predicciones ≈ 68.71  \n",
    "  - Media real ≈ 68.73  \n",
    "  - El modelo presenta un ajuste casi perfecto, con error prácticamente nulo. Esto refuerza la fuerte dependencia detectada en `f2`.\n",
    "\n",
    "- **Región 2**:  \n",
    "  - RMSE ≈ 40.15  \n",
    "  - Media de predicciones ≈ 94.77  \n",
    "  - Media real ≈ 95.15  \n",
    "  - El modelo reproduce bien la media real, pero con un error algo mayor que en la Región 0.\n",
    "\n",
    "➡️ **Conclusión general**: La **Región 1** muestra un modelo con ajuste sobresaliente, probablemente debido a la relación casi determinista entre `f2` y `product`. Las **Regiones 0 y 2** presentan desempeños aceptables, aunque con errores más altos. Para fines de negocio, habrá que complementar este análisis con la estimación de beneficios y evaluación de riesgo.\n"
   ]
  },
  {
   "cell_type": "markdown",
   "id": "e6813a05",
   "metadata": {},
   "source": [
    "## 3.4 Almacenamiento de predicciones y valores reales\n",
    "\n",
    "En esta subsección se guardan las predicciones de los modelos junto con los valores reales de cada conjunto de validación.  \n",
    "Este paso es esencial porque estos datos se utilizarán más adelante para el **cálculo del beneficio esperado** y la aplicación de **bootstrapping**, donde se requiere comparar de forma repetida los valores predichos con los observados.  \n",
    "\n",
    "Al mantener las predicciones organizadas por región, se facilita el análisis económico y de riesgo en las siguientes etapas.\n"
   ]
  },
  {
   "cell_type": "code",
   "execution_count": 10,
   "id": "5190294e",
   "metadata": {},
   "outputs": [
    {
     "name": "stdout",
     "output_type": "stream",
     "text": [
      "📌 Región 0:\n"
     ]
    },
    {
     "data": {
      "text/html": [
       "<div>\n",
       "<style scoped>\n",
       "    .dataframe tbody tr th:only-of-type {\n",
       "        vertical-align: middle;\n",
       "    }\n",
       "\n",
       "    .dataframe tbody tr th {\n",
       "        vertical-align: top;\n",
       "    }\n",
       "\n",
       "    .dataframe thead th {\n",
       "        text-align: right;\n",
       "    }\n",
       "</style>\n",
       "<table border=\"1\" class=\"dataframe\">\n",
       "  <thead>\n",
       "    <tr style=\"text-align: right;\">\n",
       "      <th></th>\n",
       "      <th>real</th>\n",
       "      <th>pred</th>\n",
       "    </tr>\n",
       "  </thead>\n",
       "  <tbody>\n",
       "    <tr>\n",
       "      <th>0</th>\n",
       "      <td>122.073350</td>\n",
       "      <td>101.901017</td>\n",
       "    </tr>\n",
       "    <tr>\n",
       "      <th>1</th>\n",
       "      <td>48.738540</td>\n",
       "      <td>78.217774</td>\n",
       "    </tr>\n",
       "    <tr>\n",
       "      <th>2</th>\n",
       "      <td>131.338088</td>\n",
       "      <td>115.266901</td>\n",
       "    </tr>\n",
       "    <tr>\n",
       "      <th>3</th>\n",
       "      <td>88.327757</td>\n",
       "      <td>105.618618</td>\n",
       "    </tr>\n",
       "    <tr>\n",
       "      <th>4</th>\n",
       "      <td>36.959266</td>\n",
       "      <td>97.980185</td>\n",
       "    </tr>\n",
       "  </tbody>\n",
       "</table>\n",
       "</div>"
      ],
      "text/plain": [
       "         real        pred\n",
       "0  122.073350  101.901017\n",
       "1   48.738540   78.217774\n",
       "2  131.338088  115.266901\n",
       "3   88.327757  105.618618\n",
       "4   36.959266   97.980185"
      ]
     },
     "metadata": {},
     "output_type": "display_data"
    },
    {
     "name": "stdout",
     "output_type": "stream",
     "text": [
      "📌 Región 1:\n"
     ]
    },
    {
     "data": {
      "text/html": [
       "<div>\n",
       "<style scoped>\n",
       "    .dataframe tbody tr th:only-of-type {\n",
       "        vertical-align: middle;\n",
       "    }\n",
       "\n",
       "    .dataframe tbody tr th {\n",
       "        vertical-align: top;\n",
       "    }\n",
       "\n",
       "    .dataframe thead th {\n",
       "        text-align: right;\n",
       "    }\n",
       "</style>\n",
       "<table border=\"1\" class=\"dataframe\">\n",
       "  <thead>\n",
       "    <tr style=\"text-align: right;\">\n",
       "      <th></th>\n",
       "      <th>real</th>\n",
       "      <th>pred</th>\n",
       "    </tr>\n",
       "  </thead>\n",
       "  <tbody>\n",
       "    <tr>\n",
       "      <th>0</th>\n",
       "      <td>0.000000</td>\n",
       "      <td>0.844738</td>\n",
       "    </tr>\n",
       "    <tr>\n",
       "      <th>1</th>\n",
       "      <td>53.906522</td>\n",
       "      <td>52.921612</td>\n",
       "    </tr>\n",
       "    <tr>\n",
       "      <th>2</th>\n",
       "      <td>134.766305</td>\n",
       "      <td>135.110385</td>\n",
       "    </tr>\n",
       "    <tr>\n",
       "      <th>3</th>\n",
       "      <td>107.813044</td>\n",
       "      <td>109.494863</td>\n",
       "    </tr>\n",
       "    <tr>\n",
       "      <th>4</th>\n",
       "      <td>0.000000</td>\n",
       "      <td>-0.047292</td>\n",
       "    </tr>\n",
       "  </tbody>\n",
       "</table>\n",
       "</div>"
      ],
      "text/plain": [
       "         real        pred\n",
       "0    0.000000    0.844738\n",
       "1   53.906522   52.921612\n",
       "2  134.766305  135.110385\n",
       "3  107.813044  109.494863\n",
       "4    0.000000   -0.047292"
      ]
     },
     "metadata": {},
     "output_type": "display_data"
    },
    {
     "name": "stdout",
     "output_type": "stream",
     "text": [
      "📌 Región 2:\n"
     ]
    },
    {
     "data": {
      "text/html": [
       "<div>\n",
       "<style scoped>\n",
       "    .dataframe tbody tr th:only-of-type {\n",
       "        vertical-align: middle;\n",
       "    }\n",
       "\n",
       "    .dataframe tbody tr th {\n",
       "        vertical-align: top;\n",
       "    }\n",
       "\n",
       "    .dataframe thead th {\n",
       "        text-align: right;\n",
       "    }\n",
       "</style>\n",
       "<table border=\"1\" class=\"dataframe\">\n",
       "  <thead>\n",
       "    <tr style=\"text-align: right;\">\n",
       "      <th></th>\n",
       "      <th>real</th>\n",
       "      <th>pred</th>\n",
       "    </tr>\n",
       "  </thead>\n",
       "  <tbody>\n",
       "    <tr>\n",
       "      <th>0</th>\n",
       "      <td>117.441301</td>\n",
       "      <td>98.301916</td>\n",
       "    </tr>\n",
       "    <tr>\n",
       "      <th>1</th>\n",
       "      <td>47.841249</td>\n",
       "      <td>101.592461</td>\n",
       "    </tr>\n",
       "    <tr>\n",
       "      <th>2</th>\n",
       "      <td>45.883483</td>\n",
       "      <td>52.449099</td>\n",
       "    </tr>\n",
       "    <tr>\n",
       "      <th>3</th>\n",
       "      <td>139.014608</td>\n",
       "      <td>109.922127</td>\n",
       "    </tr>\n",
       "    <tr>\n",
       "      <th>4</th>\n",
       "      <td>84.004276</td>\n",
       "      <td>72.411847</td>\n",
       "    </tr>\n",
       "  </tbody>\n",
       "</table>\n",
       "</div>"
      ],
      "text/plain": [
       "         real        pred\n",
       "0  117.441301   98.301916\n",
       "1   47.841249  101.592461\n",
       "2   45.883483   52.449099\n",
       "3  139.014608  109.922127\n",
       "4   84.004276   72.411847"
      ]
     },
     "metadata": {},
     "output_type": "display_data"
    }
   ],
   "source": [
    "\"\"\"\n",
    "3.4 Almacenamiento de predicciones y valores reales\n",
    "Propósito: Guardar las predicciones y valores observados de cada región para\n",
    "su uso posterior en el cálculo de beneficios y bootstrapping.\n",
    "\"\"\"\n",
    "\n",
    "# Crear DataFrames con predicciones y valores reales para cada región\n",
    "preds_region_0 = pd.DataFrame({\"real\": y_valid_0.values, \"pred\": model_0.predict(X_valid_0)})\n",
    "preds_region_1 = pd.DataFrame({\"real\": y_valid_1.values, \"pred\": model_1.predict(X_valid_1)})\n",
    "preds_region_2 = pd.DataFrame({\"real\": y_valid_2.values, \"pred\": model_2.predict(X_valid_2)})\n",
    "\n",
    "# Mostrar una vista rápida de cada DataFrame\n",
    "print(\"📌 Región 0:\")\n",
    "display(preds_region_0.head())\n",
    "\n",
    "print(\"📌 Región 1:\")\n",
    "display(preds_region_1.head())\n",
    "\n",
    "print(\"📌 Región 2:\")\n",
    "display(preds_region_2.head())\n"
   ]
  },
  {
   "cell_type": "markdown",
   "id": "ec7b4dfb",
   "metadata": {},
   "source": [
    "### ✅ Conclusión Sección 3.4 — Almacenamiento de predicciones y valores reales\n",
    "\n",
    "- Se generaron y almacenaron correctamente las predicciones y los valores reales de los conjuntos de validación para cada región.  \n",
    "- Los DataFrames contienen dos columnas principales:  \n",
    "  - **real**: valor observado de la variable objetivo (`product`).  \n",
    "  - **pred**: valor estimado por el modelo de regresión lineal.  \n",
    "- La comparación directa permite verificar que las predicciones siguen de cerca los valores reales, especialmente en la Región 1, donde el modelo mostró mejor desempeño.  \n",
    "\n",
    "➡️ Con este almacenamiento, los datos quedan listos para ser utilizados en la **estimación de beneficios** y en el **análisis de riesgo mediante bootstrapping**, que se desarrollarán en la siguiente sección.\n"
   ]
  },
  {
   "cell_type": "markdown",
   "id": "767855a6",
   "metadata": {},
   "source": [
    "## ✅ Conclusión Sección 3 —  Modelado y validación de predicciones\n",
    "\n",
    "📌 **Resumen global de hallazgos del modelado**\n",
    "\n",
    "1. **Preparación de los datos (3.1)**  \n",
    "   - Cada región fue dividida en **75,000 registros para entrenamiento** y **25,000 para validación**.  \n",
    "   - La proporción 75:25 se aplicó de manera consistente, asegurando comparabilidad entre regiones.  \n",
    "\n",
    "2. **Entrenamiento de modelos (3.2)**  \n",
    "   - Se entrenaron tres modelos de **regresión lineal** (uno por región).  \n",
    "   - En todos los casos, la característica **`f2`** resultó ser la más influyente en la predicción de reservas.  \n",
    "   - En la Región 1, `f2` dominó el modelo de forma casi exclusiva, mientras que en las Regiones 0 y 2 su efecto fue fuerte pero más equilibrado.  \n",
    "\n",
    "3. **Evaluación de modelos (3.3)**  \n",
    "   - **Región 0**: RMSE ≈ 37.8; media de predicciones ≈ 92.4, media real ≈ 92.3.  \n",
    "   - **Región 1**: RMSE ≈ 0.9; media de predicciones ≈ 68.7, media real ≈ 68.7.  \n",
    "   - **Región 2**: RMSE ≈ 40.2; media de predicciones ≈ 94.8, media real ≈ 95.1.  \n",
    "   - El modelo de la Región 1 tuvo un desempeño casi perfecto, mientras que los modelos de las Regiones 0 y 2 mostraron un ajuste razonable pero con errores mayores.  \n",
    "\n",
    "4. **Almacenamiento de predicciones (3.4)**  \n",
    "   - Se guardaron los valores reales y predichos en DataFrames por región (`real`, `pred`).  \n",
    "   - Estos resultados serán la base para el cálculo de beneficios esperados y el análisis de riesgo con bootstrapping.  \n",
    "\n",
    "---\n",
    "\n",
    "➡️ **Conclusión general de la Sección 3**:  \n",
    "Los modelos confirman que la variable **`f2`** es determinante en las predicciones de reservas. La **Región 1** ofrece un modelo con ajuste sobresaliente (posiblemente por la relación casi determinista entre `f2` y `product`), mientras que las Regiones 0 y 2 presentan modelos más moderados pero aún útiles para la proyección de beneficios.\n"
   ]
  },
  {
   "cell_type": "markdown",
   "id": "092fcb9f",
   "metadata": {},
   "source": [
    "# 4. Estimación de beneficios y análisis de riesgos con bootstrapping\n",
    "\n",
    "En esta sección se combina el análisis estadístico con las condiciones de negocio para identificar la región más rentable y con menor riesgo.  \n",
    "\n",
    "El proceso incluye:  \n",
    "- Preparar los datos para el cálculo económico en función de la inversión y el ingreso por barril.  \n",
    "- Seleccionar los pozos con mayor potencial productivo según las predicciones del modelo.  \n",
    "- Calcular el beneficio esperado por región.  \n",
    "- Aplicar la técnica de **bootstrapping** con 1000 muestras para evaluar la incertidumbre, estimar intervalos de confianza y medir el riesgo de pérdida.  \n",
    "\n",
    "Este análisis permitirá recomendar con fundamento la región óptima para abrir los 200 nuevos pozos de petróleo.\n"
   ]
  },
  {
   "cell_type": "markdown",
   "id": "3d670025",
   "metadata": {},
   "source": [
    "## 4.1 Preparación para el cálculo de beneficios\n",
    "\n",
    "Antes de calcular el beneficio esperado de cada región, se deben definir las **condiciones de negocio**:\n",
    "\n",
    "- **Inversión total**: 100 millones de USD.  \n",
    "- **Número de pozos a desarrollar**: 200.  \n",
    "- **Ingreso por cada mil barriles**: 4,500 USD.  \n",
    "\n",
    "Esto implica que, para evitar pérdidas, cada pozo debe producir en promedio al menos:  \n",
    "\n",
    "**100,000,000 ÷ (200 × 4,500) ≈ 111.1 miles de barriles por pozo**\n",
    "\n",
    "En este paso se comparará este umbral con la **media de reservas estimadas** de cada región, lo cual permitirá anticipar qué tan viable es alcanzar rentabilidad mínima.\n"
   ]
  },
  {
   "cell_type": "code",
   "execution_count": 11,
   "id": "da2d5f65",
   "metadata": {},
   "outputs": [
    {
     "name": "stdout",
     "output_type": "stream",
     "text": [
      "📌 Umbral mínimo de rentabilidad: 111.11 mil barriles por pozo\n",
      "\n",
      "Región 0 -> Media de reservas reales: 92.33\n",
      "Región 1 -> Media de reservas reales: 68.73\n",
      "Región 2 -> Media de reservas reales: 95.15\n"
     ]
    }
   ],
   "source": [
    "\"\"\"\n",
    "4.1 Preparación para el cálculo de beneficios\n",
    "Propósito: Definir variables de negocio y comparar el umbral mínimo de producción\n",
    "con las medias observadas de cada región.\n",
    "\"\"\"\n",
    "\n",
    "# Variables de negocio\n",
    "costos_inversion = 100000000    # USD\n",
    "pozos_a_desarrollar = 200       # número de pozos\n",
    "ingreso_por_unidad = 4500       # USD por mil barriles\n",
    "\n",
    "# Umbral mínimo de producción rentable (en miles de barriles por pozo)\n",
    "umbral_rentabilidad = costos_inversion / (pozos_a_desarrollar * ingreso_por_unidad)\n",
    "\n",
    "print(f\"📌 Umbral mínimo de rentabilidad: {umbral_rentabilidad:.2f} mil barriles por pozo\\n\")\n",
    "\n",
    "# Medias reales de cada región (ya disponibles de la evaluación anterior)\n",
    "media_region_0 = np.mean(y_valid_0)\n",
    "media_region_1 = np.mean(y_valid_1)\n",
    "media_region_2 = np.mean(y_valid_2)\n",
    "\n",
    "print(f\"Región 0 -> Media de reservas reales: {media_region_0:.2f}\")\n",
    "print(f\"Región 1 -> Media de reservas reales: {media_region_1:.2f}\")\n",
    "print(f\"Región 2 -> Media de reservas reales: {media_region_2:.2f}\")\n"
   ]
  },
  {
   "cell_type": "markdown",
   "id": "8f97a106",
   "metadata": {},
   "source": [
    "### ✅ Conclusión Sección 4.1 — Preparación para el cálculo de beneficios\n",
    "\n",
    "- El **umbral mínimo de rentabilidad** es de **111.11 mil barriles por pozo**.  \n",
    "- Comparando con las medias de reservas reales:\n",
    "  - **Región 0** → 92.33 (por debajo del umbral).  \n",
    "  - **Región 1** → 68.73 (muy por debajo del umbral).  \n",
    "  - **Región 2** → 95.15 (también por debajo del umbral).  \n",
    "\n",
    "➡️ **Conclusión**: Ninguna de las tres regiones alcanza por sí sola el promedio mínimo de 111.1 mil barriles por pozo necesario para cubrir la inversión de 100 millones de USD. Esto no descarta el proyecto, pero indica que será necesario **seleccionar los pozos con mayor potencial** dentro de cada región para asegurar rentabilidad.\n"
   ]
  },
  {
   "cell_type": "markdown",
   "id": "be81bf1c",
   "metadata": {},
   "source": [
    "## 4.2 Selección de los 200 pozos más prometedores por región\n",
    "\n",
    "En esta subsección se seleccionan los **200 pozos con mayores valores de producción predicha (`pred`)** en cada región.  \n",
    "Este enfoque se justifica porque, aunque el promedio general de reservas no alcanza el umbral de rentabilidad, la estrategia de negocio se centra en desarrollar solo los pozos con **mayor potencial productivo**.  \n",
    "\n",
    "El resultado de este paso será un subconjunto de 200 pozos por región con sus valores predichos de reservas, que se utilizarán en el cálculo del beneficio esperado.\n"
   ]
  },
  {
   "cell_type": "code",
   "execution_count": 12,
   "id": "538eda4e",
   "metadata": {},
   "outputs": [
    {
     "name": "stdout",
     "output_type": "stream",
     "text": [
      "📌 Región 0 -> Media top 200 predicciones: 154.40731644073495\n",
      "📌 Región 1 -> Media top 200 predicciones: 138.74375683332306\n",
      "📌 Región 2 -> Media top 200 predicciones: 148.6442390412772\n"
     ]
    }
   ],
   "source": [
    "\"\"\"\n",
    "4.2 Selección de los 200 pozos más prometedores por región\n",
    "Propósito: Ordenar las predicciones de cada región y seleccionar los 200 pozos\n",
    "con mayor valor estimado de reservas.\n",
    "\"\"\"\n",
    "\n",
    "# Selección de los 200 pozos principales por región (orden descendente)\n",
    "top_200_region_0 = preds_region_0.sort_values(by=\"pred\", ascending=False).head(200)\n",
    "top_200_region_1 = preds_region_1.sort_values(by=\"pred\", ascending=False).head(200)\n",
    "top_200_region_2 = preds_region_2.sort_values(by=\"pred\", ascending=False).head(200)\n",
    "\n",
    "# Mostrar resumen de resultados\n",
    "print(\"📌 Región 0 -> Media top 200 predicciones:\", top_200_region_0[\"pred\"].mean())\n",
    "print(\"📌 Región 1 -> Media top 200 predicciones:\", top_200_region_1[\"pred\"].mean())\n",
    "print(\"📌 Región 2 -> Media top 200 predicciones:\", top_200_region_2[\"pred\"].mean())\n"
   ]
  },
  {
   "cell_type": "markdown",
   "id": "10d5dc97",
   "metadata": {},
   "source": [
    "### ✅ Conclusión Sección 4.2 — Selección de los 200 pozos más prometedores por región\n",
    "\n",
    "- **Región 0**: Media de los 200 mejores pozos ≈ **154.41 mil barriles**.  \n",
    "- **Región 1**: Media de los 200 mejores pozos ≈ **138.74 mil barriles**.  \n",
    "- **Región 2**: Media de los 200 mejores pozos ≈ **148.64 mil barriles**.  \n",
    "\n",
    "➡️ **Conclusión**:  \n",
    "Al enfocar el análisis únicamente en los **200 pozos más prometedores de cada región**, todas las medias superan ampliamente el **umbral mínimo de rentabilidad (111.1 mil barriles por pozo)**.  \n",
    "Esto confirma que la estrategia de selección selectiva es viable y permite proyectar beneficios positivos, siendo la **Región 0** la que muestra el mayor potencial promedio.\n"
   ]
  },
  {
   "cell_type": "markdown",
   "id": "98251be1",
   "metadata": {},
   "source": [
    "## 4.3 Estimación del beneficio esperado por región\n",
    "\n",
    "En esta subsección se calcula el **beneficio potencial** de desarrollar los **200 pozos más prometedores** en cada región.  \n",
    "\n",
    "El cálculo se realiza así:\n",
    "\n",
    "1. Se suma la producción estimada de los 200 pozos seleccionados (en miles de barriles).  \n",
    "2. El total se multiplica por **4,500 USD** (ingreso por cada mil barriles).  \n",
    "3. Finalmente, se resta la **inversión inicial de 100 millones USD**.  \n",
    "\n",
    "Este resultado permite comparar directamente la rentabilidad esperada de cada región.\n"
   ]
  },
  {
   "cell_type": "code",
   "execution_count": 13,
   "id": "c0feb5ff",
   "metadata": {},
   "outputs": [
    {
     "name": "stdout",
     "output_type": "stream",
     "text": [
      "📌 Región 0 -> Beneficio estimado: 38,966,584.80 USD\n",
      "📌 Región 1 -> Beneficio estimado: 24,869,381.15 USD\n",
      "📌 Región 2 -> Beneficio estimado: 33,779,815.14 USD\n"
     ]
    }
   ],
   "source": [
    "\"\"\"\n",
    "4.3 Estimación del beneficio esperado por región\n",
    "Propósito: Calcular el beneficio potencial de los 200 pozos seleccionados en cada región.\n",
    "\"\"\"\n",
    "\n",
    "def calcular_beneficio(top_preds, region):\n",
    "    # Suma total de reservas predichas en miles de barriles\n",
    "    total_reservas = top_preds[\"pred\"].sum()\n",
    "    \n",
    "    # Ingreso bruto\n",
    "    ingreso_total = total_reservas * ingreso_por_unidad\n",
    "    \n",
    "    # Beneficio neto\n",
    "    beneficio = ingreso_total - costos_inversion\n",
    "    \n",
    "    print(f\"📌 Región {region} -> Beneficio estimado: {beneficio:,.2f} USD\")\n",
    "    return beneficio\n",
    "\n",
    "beneficio_region_0 = calcular_beneficio(top_200_region_0, 0)\n",
    "beneficio_region_1 = calcular_beneficio(top_200_region_1, 1)\n",
    "beneficio_region_2 = calcular_beneficio(top_200_region_2, 2)\n"
   ]
  },
  {
   "cell_type": "markdown",
   "id": "b0184028",
   "metadata": {},
   "source": [
    "### ✅ Conclusión Sección 4.3 — Estimación del beneficio esperado por región\n",
    "\n",
    "- **Región 0** → Beneficio estimado: **38,966,584.80 USD**\n",
    "- **Región 1** → Beneficio estimado: **24,869,381.15 USD**\n",
    "- **Región 2** → Beneficio estimado: **33,779,815.14 USD**\n",
    "\n",
    "📌 Verificación rápida del cálculo (ejemplo Región 0):\n",
    "(154.4073 × 200 × 4,500) − 100,000,000 ≈ 38,966,584.8 USD\n",
    "\n",
    "**Conclusión:** Las tres regiones proyectan beneficio positivo al desarrollar los 200 pozos con mayor potencial. La **Región 0** ofrece el mayor beneficio esperado, seguida por la **Región 2**.\n"
   ]
  },
  {
   "cell_type": "markdown",
   "id": "a2a4e9bc",
   "metadata": {},
   "source": [
    "### 4.4 Bootstrapping de beneficios y riesgo por región\n",
    "\n",
    "En esta subsección se aplicará la técnica de **bootstrapping** para estimar la distribución de beneficios potenciales en cada región.  \n",
    "El procedimiento consiste en:\n",
    "\n",
    "- Simular **1000 iteraciones** de campañas de exploración.\n",
    "- En cada iteración se seleccionan **500 pozos con reemplazo**.\n",
    "- De esos 500, se eligen los **200 con mayores valores de predicción**.\n",
    "- El beneficio se calcula a partir de la suma de los valores reales de producción de esos pozos, multiplicados por el ingreso por unidad y descontando los costos de inversión.\n",
    "- Con la distribución resultante se obtendrán:  \n",
    "  - **Beneficio promedio esperado**  \n",
    "  - **Intervalo de confianza del 95%**  \n",
    "  - **Riesgo de pérdida (probabilidad de obtener beneficio negativo)**  \n",
    "\n",
    "El objetivo es evaluar con rigor estadístico la viabilidad de cada región y seleccionar aquella que cumpla con la condición de **riesgo < 2.5%** y ofrezca el mayor beneficio esperado.\n"
   ]
  },
  {
   "cell_type": "code",
   "execution_count": 14,
   "id": "f8e9ab95",
   "metadata": {},
   "outputs": [
    {
     "name": "stdout",
     "output_type": "stream",
     "text": [
      "📊 Resumen bootstrapping (beneficios en USD):\n"
     ]
    },
    {
     "data": {
      "text/html": [
       "<style type=\"text/css\">\n",
       "</style>\n",
       "<table id=\"T_a4ded\">\n",
       "  <thead>\n",
       "    <tr>\n",
       "      <th class=\"blank level0\" >&nbsp;</th>\n",
       "      <th id=\"T_a4ded_level0_col0\" class=\"col_heading level0 col0\" >beneficio_promedio</th>\n",
       "      <th id=\"T_a4ded_level0_col1\" class=\"col_heading level0 col1\" >ic_95_low</th>\n",
       "      <th id=\"T_a4ded_level0_col2\" class=\"col_heading level0 col2\" >ic_95_high</th>\n",
       "      <th id=\"T_a4ded_level0_col3\" class=\"col_heading level0 col3\" >riesgo_perdida</th>\n",
       "    </tr>\n",
       "    <tr>\n",
       "      <th class=\"index_name level0\" >region</th>\n",
       "      <th class=\"blank col0\" >&nbsp;</th>\n",
       "      <th class=\"blank col1\" >&nbsp;</th>\n",
       "      <th class=\"blank col2\" >&nbsp;</th>\n",
       "      <th class=\"blank col3\" >&nbsp;</th>\n",
       "    </tr>\n",
       "  </thead>\n",
       "  <tbody>\n",
       "    <tr>\n",
       "      <th id=\"T_a4ded_level0_row0\" class=\"row_heading level0 row0\" >Región 0</th>\n",
       "      <td id=\"T_a4ded_row0_col0\" class=\"data row0 col0\" >4,062,788</td>\n",
       "      <td id=\"T_a4ded_row0_col1\" class=\"data row0 col1\" >-1,177,421</td>\n",
       "      <td id=\"T_a4ded_row0_col2\" class=\"data row0 col2\" >9,117,371</td>\n",
       "      <td id=\"T_a4ded_row0_col3\" class=\"data row0 col3\" >6.70%</td>\n",
       "    </tr>\n",
       "    <tr>\n",
       "      <th id=\"T_a4ded_level0_row1\" class=\"row_heading level0 row1\" >Región 1</th>\n",
       "      <td id=\"T_a4ded_row1_col0\" class=\"data row1 col0\" >4,326,241</td>\n",
       "      <td id=\"T_a4ded_row1_col1\" class=\"data row1 col1\" >168,462</td>\n",
       "      <td id=\"T_a4ded_row1_col2\" class=\"data row1 col2\" >8,159,725</td>\n",
       "      <td id=\"T_a4ded_row1_col3\" class=\"data row1 col3\" >1.90%</td>\n",
       "    </tr>\n",
       "    <tr>\n",
       "      <th id=\"T_a4ded_level0_row2\" class=\"row_heading level0 row2\" >Región 2</th>\n",
       "      <td id=\"T_a4ded_row2_col0\" class=\"data row2 col0\" >3,773,622</td>\n",
       "      <td id=\"T_a4ded_row2_col1\" class=\"data row2 col1\" >-1,707,804</td>\n",
       "      <td id=\"T_a4ded_row2_col2\" class=\"data row2 col2\" >9,017,721</td>\n",
       "      <td id=\"T_a4ded_row2_col3\" class=\"data row2 col3\" >7.40%</td>\n",
       "    </tr>\n",
       "  </tbody>\n",
       "</table>\n"
      ],
      "text/plain": [
       "<pandas.io.formats.style.Styler at 0x17c8aaa80d0>"
      ]
     },
     "metadata": {},
     "output_type": "display_data"
    }
   ],
   "source": [
    "\"\"\"\n",
    "4.4 Bootstrapping de beneficios y riesgo por región (1000 iteraciones)\n",
    "Propósito: Simular campañas de exploración de 500 pozos, seleccionar los 200 mejores\n",
    "por predicción y calcular la distribución de beneficios para estimar:\n",
    "- Beneficio promedio\n",
    "- Intervalo de confianza al 95%\n",
    "- Riesgo de pérdida (P[beneficio < 0])\n",
    "\"\"\"\n",
    "\n",
    "import numpy as np\n",
    "import pandas as pd\n",
    "\n",
    "def bootstrap_beneficio_region(\n",
    "    preds_df: pd.DataFrame,\n",
    "    ingreso_por_unidad: float,\n",
    "    costos_inversion: float,\n",
    "    n_iter: int = 1000,\n",
    "    sample_size: int = 500,\n",
    "    top_k: int = 200,\n",
    "    random_state: int = 12345\n",
    "):\n",
    "    \"\"\"\n",
    "    Calcula la distribución de beneficios usando bootstrapping para una región.\n",
    "\n",
    "    Pasos:\n",
    "    1) En cada iteración, muestrear con reemplazo 'sample_size' filas del DataFrame de predicciones/observaciones.\n",
    "    2) Ordenar ese subconjunto por 'pred' en orden descendente y tomar los 'top_k' mejores.\n",
    "    3) Calcular el beneficio con base en la suma de 'real' (valor observado) de esos 'top_k':\n",
    "         beneficio = sum(real_top_k) * ingreso_por_unidad - costos_inversion\n",
    "    4) Guardar el beneficio de cada iteración para construir la distribución.\n",
    "    5) Al final, devolver estadísticas de interés: promedio, IC95% y riesgo de pérdida.\n",
    "\n",
    "    Notas:\n",
    "    - Se usa 'real' para el cálculo del ingreso, ya que el criterio de selección es por predicción,\n",
    "        pero el beneficio efectivo proviene de lo realmente producido.\n",
    "    \"\"\"\n",
    "\n",
    "    rng = np.random.RandomState(random_state)\n",
    "    beneficios = []\n",
    "\n",
    "    # Asegurar columnas necesarias\n",
    "    assert {\"real\", \"pred\"}.issubset(preds_df.columns), \"preds_df debe contener columnas 'real' y 'pred'.\"\n",
    "\n",
    "    n = len(preds_df)\n",
    "    idx = np.arange(n)\n",
    "\n",
    "    for _ in range(n_iter):\n",
    "        # 1) Muestra con reemplazo 'sample_size' pozos\n",
    "        sample_idx = rng.choice(idx, size=sample_size, replace=True)\n",
    "        sample_df = preds_df.iloc[sample_idx]\n",
    "\n",
    "        # 2) Selección top_k por predicción\n",
    "        top_df = sample_df.sort_values(\"pred\", ascending=False).head(top_k)\n",
    "\n",
    "        # 3) Beneficio usando valores reales\n",
    "        total_real = float(top_df[\"real\"].sum())\n",
    "        beneficio = total_real * ingreso_por_unidad - costos_inversion\n",
    "        beneficios.append(beneficio)\n",
    "\n",
    "    beneficios = np.array(beneficios, dtype=float)\n",
    "\n",
    "    # 4) Métricas resumen\n",
    "    beneficio_prom = float(beneficios.mean())\n",
    "    ic_low, ic_high = np.percentile(beneficios, [2.5, 97.5])\n",
    "    riesgo_perdida = float((beneficios < 0).mean())  # probabilidad de pérdida\n",
    "\n",
    "    resumen = {\n",
    "        \"beneficio_promedio\": beneficio_prom,\n",
    "        \"ic_95_low\": float(ic_low),\n",
    "        \"ic_95_high\": float(ic_high),\n",
    "        \"riesgo_perdida\": riesgo_perdida\n",
    "    }\n",
    "    return beneficios, resumen\n",
    "\n",
    "\n",
    "# --- Ejecutar bootstrapping por región ---\n",
    "beneficios_r0, resumen_r0 = bootstrap_beneficio_region(\n",
    "    preds_region_0, ingreso_por_unidad, costos_inversion,\n",
    "    n_iter=1000, sample_size=500, top_k=200, random_state=12345\n",
    ")\n",
    "\n",
    "beneficios_r1, resumen_r1 = bootstrap_beneficio_region(\n",
    "    preds_region_1, ingreso_por_unidad, costos_inversion,\n",
    "    n_iter=1000, sample_size=500, top_k=200, random_state=12345\n",
    ")\n",
    "\n",
    "beneficios_r2, resumen_r2 = bootstrap_beneficio_region(\n",
    "    preds_region_2, ingreso_por_unidad, costos_inversion,\n",
    "    n_iter=1000, sample_size=500, top_k=200, random_state=12345\n",
    ")\n",
    "\n",
    "# Tabla resumen para comparación\n",
    "resumen_boot = pd.DataFrame([\n",
    "    {\"region\": \"Región 0\", **resumen_r0},\n",
    "    {\"region\": \"Región 1\", **resumen_r1},\n",
    "    {\"region\": \"Región 2\", **resumen_r2},\n",
    "]).set_index(\"region\")\n",
    "\n",
    "print(\"📊 Resumen bootstrapping (beneficios en USD):\")\n",
    "display(resumen_boot.style.format({\n",
    "    \"beneficio_promedio\": \"{:,.0f}\",\n",
    "    \"ic_95_low\": \"{:,.0f}\",\n",
    "    \"ic_95_high\": \"{:,.0f}\",\n",
    "    \"riesgo_perdida\": \"{:.2%}\"\n",
    "}))\n",
    "\n",
    "# (Opcional) Guardar las distribuciones por región para futuros gráficos/análisis\n",
    "# pd.Series(beneficios_r0, name=\"beneficios_r0\").to_csv(\"reports/figuras/beneficios_r0.csv\", index=False)\n",
    "# pd.Series(beneficios_r1, name=\"beneficios_r1\").to_csv(\"reports/figuras/beneficios_r1.csv\", index=False)\n",
    "# pd.Series(beneficios_r2, name=\"beneficios_r2\").to_csv(\"reports/figuras/beneficios_r2.csv\", index=False)\n"
   ]
  },
  {
   "cell_type": "markdown",
   "id": "e86c5ab8",
   "metadata": {},
   "source": [
    "### ✅ Conclusión Sección 4.4 — Bootstrapping de beneficios y riesgo por región\n",
    "\n",
    "Los resultados del bootstrapping muestran lo siguiente:\n",
    "\n",
    "- **Región 0**: Beneficio promedio de **4.06M USD**, pero con un intervalo de confianza amplio (-1.17M a 9.11M) y un riesgo de pérdida de **6.70%**, por encima del umbral aceptable.  \n",
    "- **Región 1**: Beneficio promedio más alto de **4.32M USD**, intervalo de confianza positivo en su límite inferior (168K a 8.15M) y un riesgo de pérdida de solo **1.90%**, cumpliendo la condición de riesgo < 2.5%.  \n",
    "- **Región 2**: Beneficio promedio de **3.77M USD**, intervalo de confianza con valores negativos (-1.70M a 9.01M) y un riesgo elevado de **7.40%**.\n",
    "\n",
    "📌 **Conclusión**: La **Región 1** es la única que cumple con el criterio de riesgo (<2.5%) y además presenta el beneficio promedio más alto entre las regiones viables. Por lo tanto, se recomienda seleccionar la **Región 1** como la mejor opción para desarrollar los 200 pozos petroleros.\n"
   ]
  },
  {
   "cell_type": "markdown",
   "id": "53f8da9c",
   "metadata": {},
   "source": [
    "## 4.5 Visualizaciones de la distribución de beneficios\n",
    "\n",
    "En esta sección se crearán representaciones gráficas para analizar de forma visual la distribución de beneficios obtenidos con el bootstrapping en cada región. \n",
    " \n",
    "El objetivo es comparar la dispersión, la media y el intervalo de confianza de los beneficios para facilitar la interpretación y validación de la región más prometedora."
   ]
  },
  {
   "cell_type": "markdown",
   "id": "dbb894f7",
   "metadata": {},
   "source": [
    "### 4.5.1 Histogramas de distribución por región\n",
    "\n",
    "Se graficará un histograma de la distribución de beneficios para cada región, con el fin de observar la variabilidad y la asimetría de los resultados del bootstrapping."
   ]
  },
  {
   "cell_type": "code",
   "execution_count": 15,
   "id": "7afd1052",
   "metadata": {},
   "outputs": [
    {
     "data": {
      "image/png": "[encoded data removed]",
      "text/plain": [
       "<Figure size 1400x600 with 3 Axes>"
      ]
     },
     "metadata": {},
     "output_type": "display_data"
    }
   ],
   "source": [
    "\"\"\"\n",
    "4.5.1 Histogramas de distribución por región\n",
    "Propósito: Visualizar la distribución de beneficios de cada región\n",
    "para identificar su dispersión, concentración y riesgo de pérdida.\n",
    "\"\"\"\n",
    "\n",
    "import matplotlib.pyplot as plt\n",
    "\n",
    "plt.figure(figsize=(14, 6))\n",
    "\n",
    "# Región 0\n",
    "plt.subplot(1, 3, 1)\n",
    "plt.hist(beneficios_r0, bins=50, color=\"skyblue\", edgecolor=\"black\")\n",
    "plt.title(\"Región 0 - Distribución de beneficios\")\n",
    "plt.xlabel(\"Beneficio (USD)\")\n",
    "plt.ylabel(\"Frecuencia\")\n",
    "\n",
    "# Región 1\n",
    "plt.subplot(1, 3, 2)\n",
    "plt.hist(beneficios_r1, bins=50, color=\"lightgreen\", edgecolor=\"black\")\n",
    "plt.title(\"Región 1 - Distribución de beneficios\")\n",
    "plt.xlabel(\"Beneficio (USD)\")\n",
    "plt.ylabel(\"Frecuencia\")\n",
    "\n",
    "# Región 2\n",
    "plt.subplot(1, 3, 3)\n",
    "plt.hist(beneficios_r2, bins=50, color=\"salmon\", edgecolor=\"black\")\n",
    "plt.title(\"Región 2 - Distribución de beneficios\")\n",
    "plt.xlabel(\"Beneficio (USD)\")\n",
    "plt.ylabel(\"Frecuencia\")\n",
    "\n",
    "plt.tight_layout()\n",
    "plt.show()\n"
   ]
  },
  {
   "cell_type": "markdown",
   "id": "eef5b807",
   "metadata": {},
   "source": [
    "#### ✅ Conclusión Sección 4.5.1 — Histogramas de distribución por región\n",
    "\n",
    "El análisis visual de las distribuciones de beneficios muestra lo siguiente:\n",
    "\n",
    "- **Región 0**: La distribución es relativamente simétrica, pero se observa una dispersión amplia con presencia de valores negativos. Esto confirma un riesgo considerable de pérdidas.  \n",
    "- **Región 1**: La distribución es más concentrada alrededor de beneficios positivos, con menos dispersión hacia valores negativos. Esto refuerza la solidez de esta región al mantener una mayor estabilidad y un riesgo bajo.  \n",
    "- **Región 2**: La distribución presenta una dispersión similar a la de la Región 0, con una proporción relevante de simulaciones en el rango negativo, lo que aumenta la incertidumbre y el riesgo.  \n",
    "\n",
    "📌 **Conclusión**: La **Región 1** muestra la distribución más favorable, con mayor densidad de beneficios positivos y menor presencia de pérdidas, validando los resultados estadísticos obtenidos previamente.\n"
   ]
  },
  {
   "cell_type": "markdown",
   "id": "fca101e7",
   "metadata": {},
   "source": [
    "### 4.5.2 Comparación de beneficios promedio por región\n",
    "\n",
    "Se utilizará un gráfico de barras para comparar los beneficios promedio obtenidos en el bootstrapping de cada región.  \n",
    "Esto permitirá identificar visualmente cuál región ofrece la mejor expectativa de ganancia.\n"
   ]
  },
  {
   "cell_type": "code",
   "execution_count": 16,
   "id": "1f0d74e9",
   "metadata": {},
   "outputs": [
    {
     "data": {
      "image/png": "[encoded data removed]",
      "text/plain": [
       "<Figure size 800x500 with 1 Axes>"
      ]
     },
     "metadata": {},
     "output_type": "display_data"
    }
   ],
   "source": [
    "\"\"\"\n",
    "4.5.2 Comparación de beneficios promedio por región\n",
    "Propósito: Representar los beneficios promedio de cada región\n",
    "para una comparación directa y visual de los resultados.\n",
    "\"\"\"\n",
    "\n",
    "resumen_boot[\"beneficio_promedio\"].plot(\n",
    "    kind=\"bar\",\n",
    "    figsize=(8, 5),\n",
    "    color=[\"skyblue\", \"lightgreen\", \"salmon\"],\n",
    "    edgecolor=\"black\",\n",
    "    title=\"Beneficio promedio por región\"\n",
    ")\n",
    "\n",
    "plt.ylabel(\"Beneficio (USD)\")\n",
    "plt.xlabel(\"Región\")\n",
    "plt.show()\n"
   ]
  },
  {
   "cell_type": "markdown",
   "id": "4c37ff80",
   "metadata": {},
   "source": [
    "#### ✅ Conclusión Sección 4.5.2 — Comparación de beneficios promedio por región\n",
    "\n",
    "El gráfico de barras confirma los resultados numéricos obtenidos en el bootstrapping:\n",
    "\n",
    "- **Región 0**: Beneficio promedio cercano a **4.06M USD**, superior al de la Región 2, pero con un nivel de riesgo mayor.  \n",
    "- **Región 1**: Beneficio promedio más alto, aproximadamente **4.32M USD**, destacándose como la región más rentable y además con el menor riesgo (<2.5%).  \n",
    "- **Región 2**: Beneficio promedio de alrededor de **3.77M USD**, el más bajo entre las tres regiones y con un riesgo elevado de pérdida.  \n",
    "\n",
    "📌 **Conclusión**: La **Región 1** no solo presenta el mayor beneficio promedio, sino que también combina estabilidad y bajo riesgo, consolidándola como la mejor opción de inversión.\n"
   ]
  },
  {
   "cell_type": "markdown",
   "id": "e9f5f63b",
   "metadata": {},
   "source": [
    "## 5. Conclusiones finales y recomendación del proyecto\n",
    "\n",
    "En esta sección se integran los hallazgos obtenidos durante todo el análisis, desde la preparación de los datos hasta la evaluación estadística de beneficios y riesgos, con el objetivo de definir la región óptima para la perforación de 200 pozos petroleros.\n",
    "\n",
    "---\n",
    "\n",
    "### ✅ Conclusión general\n",
    "\n",
    "- El modelo de **regresión lineal** permitió generar predicciones adecuadas del volumen de reservas en cada región, con errores de validación (RMSE) dentro de rangos aceptables.  \n",
    "- La simulación de ganancias con **selección de los 200 pozos más prometedores por predicción** mostró que la **Región 1** era competitiva en términos de beneficio esperado.  \n",
    "- El análisis de **bootstrapping (1000 iteraciones)** confirmó que:  \n",
    "  - La **Región 1** presentó un beneficio promedio de **4.32M USD**, con un intervalo de confianza de [168K, 8.15M].  \n",
    "  - Además, fue la única región con **riesgo de pérdida < 2.5% (1.90%)**, cumpliendo con el criterio de viabilidad financiera.  \n",
    "  - Las regiones 0 y 2 mostraron riesgos de pérdida elevados (6.70% y 7.40% respectivamente), descartándolas como opciones seguras.  \n",
    "- Las visualizaciones reforzaron estos resultados, mostrando distribuciones más estables y concentradas en beneficios positivos para la **Región 1**.\n",
    "\n",
    "📌 **Recomendación final**: La **Región 1** es la mejor candidata para invertir en la perforación de los 200 pozos, ya que combina **el mayor beneficio esperado** con un **riesgo mínimo de pérdida**, cumpliendo los criterios de negocio establecidos.\n",
    "\n",
    "---\n"
   ]
  }
 ],
 "metadata": {
  "kernelspec": {
   "display_name": "proyecto-sprint-11",
   "language": "python",
   "name": "python3"
  },
  "language_info": {
   "codemirror_mode": {
    "name": "ipython",
    "version": 3
   },
   "file_extension": ".py",
   "mimetype": "text/x-python",
   "name": "python",
   "nbconvert_exporter": "python",
   "pygments_lexer": "ipython3",
   "version": "3.10.18"
  }
 },
 "nbformat": 4,
 "nbformat_minor": 5
}
